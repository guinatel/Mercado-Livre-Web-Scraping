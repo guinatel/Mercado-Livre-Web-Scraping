{
 "cells": [
  {
   "cell_type": "markdown",
   "id": "4736e088",
   "metadata": {},
   "source": [
    "# Mercado Livre Web Scraper"
   ]
  },
  {
   "cell_type": "markdown",
   "id": "8e60fc30",
   "metadata": {},
   "source": [
    "O objetivo desse projeto é a fazer a raspagem de dados do site mercadolivre.com.br e partir disso criar análises. Raspagem feita dia 01/08/2022"
   ]
  },
  {
   "cell_type": "code",
   "execution_count": 38,
   "id": "9c69920b",
   "metadata": {},
   "outputs": [],
   "source": [
    "#bibliotecas necessárias\n",
    "\n",
    "from urllib.request import Request, urlopen\n",
    "from urllib.error import URLError, HTTPError\n",
    "from bs4 import BeautifulSoup\n",
    "import numpy as np\n",
    "import pandas as pd\n",
    "import matplotlib.pyplot as plt\n",
    "import seaborn as sns\n",
    "%matplotlib inline"
   ]
  },
  {
   "cell_type": "code",
   "execution_count": 2,
   "id": "8a3da409",
   "metadata": {},
   "outputs": [],
   "source": [
    "def trata_html(input):\n",
    "    return \" \".join(input.split()).replace('> <', '><')"
   ]
  },
  {
   "cell_type": "code",
   "execution_count": 28,
   "id": "d468518e",
   "metadata": {},
   "outputs": [],
   "source": [
    "cards = []\n",
    "\n",
    "#conexão com a url da pesquisa\n",
    "#busca 'Iphone' realizada no site https://mercadolivre.com.br\n",
    "\n",
    "for i in range(1,1952,50):\n",
    "    response = urlopen('https://lista.mercadolivre.com.br/celulares-telefones/celulares-smartphones/iphone_Desde_'+str(i)+'_NoIndex_True')\n",
    "    html = response.read().decode('utf-8')\n",
    "    html = trata_html(html)\n",
    "    soup = BeautifulSoup(html, 'html.parser')\n",
    "\n",
    "    card = {}\n",
    "    \n",
    "    #scraping dos aparelhos\n",
    "    aparelhos = []\n",
    "    for item in soup.findAll('h2', class_=\"ui-search-item__title\"):\n",
    "        aparelhos.append(item.text)\n",
    "\n",
    "    #scraping dos links\n",
    "    links = []\n",
    "    for link in soup.findAll('a', class_=\"ui-search-item__group__element ui-search-link\", href=True):\n",
    "        links.append(link['href'])\n",
    "\n",
    "    #scraping dos preços\n",
    "    precos = []\n",
    "    for item in soup.findAll('span', class_=\"price-tag ui-search-price__part\"):\n",
    "        precos.append(item.text)\n",
    "\n",
    "    #tratamento dos preços\n",
    "\n",
    "    precos = precos[0:120:2]\n",
    "    precos = [i.split(' ')[0] for i in precos]\n",
    "    \n",
    "    estado = []\n",
    "    for item in soup.findAll('div', class_=\"ui-search-result__content-column ui-search-result__content-column--left\"):\n",
    "        if 'Usado' in item.text:\n",
    "            estado.append('Usado')\n",
    "        elif 'Recondicionado' in item.text:\n",
    "            estado.append('Usado')        \n",
    "        else:\n",
    "            estado.append('Novo')\n",
    "    \n",
    "    #armazenamento das informações dos produtos\n",
    "    \n",
    "    card['Aparelhos'] = aparelhos\n",
    "    card['Precos R$'] = precos\n",
    "    card['Estado'] = estado\n",
    "    card['Links'] = links\n",
    "\n",
    "    cards.append(card)"
   ]
  },
  {
   "cell_type": "code",
   "execution_count": 35,
   "id": "ccdab920",
   "metadata": {},
   "outputs": [
    {
     "data": {
      "text/html": [
       "<div>\n",
       "<style scoped>\n",
       "    .dataframe tbody tr th:only-of-type {\n",
       "        vertical-align: middle;\n",
       "    }\n",
       "\n",
       "    .dataframe tbody tr th {\n",
       "        vertical-align: top;\n",
       "    }\n",
       "\n",
       "    .dataframe thead th {\n",
       "        text-align: right;\n",
       "    }\n",
       "</style>\n",
       "<table border=\"1\" class=\"dataframe\">\n",
       "  <thead>\n",
       "    <tr style=\"text-align: right;\">\n",
       "      <th></th>\n",
       "      <th>Aparelhos</th>\n",
       "      <th>Precos R$</th>\n",
       "      <th>Estado</th>\n",
       "      <th>Links</th>\n",
       "    </tr>\n",
       "  </thead>\n",
       "  <tbody>\n",
       "    <tr>\n",
       "      <th>35</th>\n",
       "      <td>[Apple iPhone 13 (512gb) - Estelar, iPhone XS ...</td>\n",
       "      <td>[8563, 3329, 3099, 2960, 2340, 5303, 6300, 823...</td>\n",
       "      <td>[Novo, Usado, Novo, Usado, Usado, Novo, Novo, ...</td>\n",
       "      <td>[https://produto.mercadolivre.com.br/MLB-26264...</td>\n",
       "    </tr>\n",
       "    <tr>\n",
       "      <th>36</th>\n",
       "      <td>[Apple iPhone 13 Pro Max 128gb Verde - Lançame...</td>\n",
       "      <td>[8299, 699, 75, 3391, 220, 6949, 3999, 622, 17...</td>\n",
       "      <td>[Novo, Usado, Usado, Usado, Usado, Novo, Usado...</td>\n",
       "      <td>[https://produto.mercadolivre.com.br/MLB-27021...</td>\n",
       "    </tr>\n",
       "    <tr>\n",
       "      <th>37</th>\n",
       "      <td>[Celular Apple iPhone 7 Plus 32gb Gold Dourado...</td>\n",
       "      <td>[1884, 1800, 2110, 3261, 1099, 1099, 650, 2520...</td>\n",
       "      <td>[Usado, Usado, Novo, Novo, Usado, Usado, Usado...</td>\n",
       "      <td>[https://produto.mercadolivre.com.br/MLB-18460...</td>\n",
       "    </tr>\n",
       "    <tr>\n",
       "      <th>38</th>\n",
       "      <td>[iPhone XR 128gb Branco Muito Bom - Trocafone ...</td>\n",
       "      <td>[2899, 1089, 3499, 700, 2749, 1999, 7580, 3999...</td>\n",
       "      <td>[Usado, Usado, Usado, Usado, Novo, Novo, Usado...</td>\n",
       "      <td>[https://produto.mercadolivre.com.br/MLB-21654...</td>\n",
       "    </tr>\n",
       "    <tr>\n",
       "      <th>39</th>\n",
       "      <td>[iPhone XR 128gb Branco Bateria 100% + Carrega...</td>\n",
       "      <td>[2699, 1299, 1858, 8499, 819, 2249, 1858, 80, ...</td>\n",
       "      <td>[Novo, Usado, Novo, Novo, Usado, Usado, Novo, ...</td>\n",
       "      <td>[https://produto.mercadolivre.com.br/MLB-26925...</td>\n",
       "    </tr>\n",
       "  </tbody>\n",
       "</table>\n",
       "</div>"
      ],
      "text/plain": [
       "                                            Aparelhos  \\\n",
       "35  [Apple iPhone 13 (512gb) - Estelar, iPhone XS ...   \n",
       "36  [Apple iPhone 13 Pro Max 128gb Verde - Lançame...   \n",
       "37  [Celular Apple iPhone 7 Plus 32gb Gold Dourado...   \n",
       "38  [iPhone XR 128gb Branco Muito Bom - Trocafone ...   \n",
       "39  [iPhone XR 128gb Branco Bateria 100% + Carrega...   \n",
       "\n",
       "                                            Precos R$  \\\n",
       "35  [8563, 3329, 3099, 2960, 2340, 5303, 6300, 823...   \n",
       "36  [8299, 699, 75, 3391, 220, 6949, 3999, 622, 17...   \n",
       "37  [1884, 1800, 2110, 3261, 1099, 1099, 650, 2520...   \n",
       "38  [2899, 1089, 3499, 700, 2749, 1999, 7580, 3999...   \n",
       "39  [2699, 1299, 1858, 8499, 819, 2249, 1858, 80, ...   \n",
       "\n",
       "                                               Estado  \\\n",
       "35  [Novo, Usado, Novo, Usado, Usado, Novo, Novo, ...   \n",
       "36  [Novo, Usado, Usado, Usado, Usado, Novo, Usado...   \n",
       "37  [Usado, Usado, Novo, Novo, Usado, Usado, Usado...   \n",
       "38  [Usado, Usado, Usado, Usado, Novo, Novo, Usado...   \n",
       "39  [Novo, Usado, Novo, Novo, Usado, Usado, Novo, ...   \n",
       "\n",
       "                                                Links  \n",
       "35  [https://produto.mercadolivre.com.br/MLB-26264...  \n",
       "36  [https://produto.mercadolivre.com.br/MLB-27021...  \n",
       "37  [https://produto.mercadolivre.com.br/MLB-18460...  \n",
       "38  [https://produto.mercadolivre.com.br/MLB-21654...  \n",
       "39  [https://produto.mercadolivre.com.br/MLB-26925...  "
      ]
     },
     "execution_count": 35,
     "metadata": {},
     "output_type": "execute_result"
    }
   ],
   "source": [
    "#leitura do dataframe\n",
    "\n",
    "dataset = pd.DataFrame(cards)\n",
    "dataset.tail()"
   ]
  },
  {
   "cell_type": "code",
   "execution_count": 36,
   "id": "2b15756b",
   "metadata": {},
   "outputs": [],
   "source": [
    "#transposição das listas dos produtos em linhas\n",
    "\n",
    "dataset = dataset.apply(pd.Series.explode).reset_index()"
   ]
  },
  {
   "cell_type": "code",
   "execution_count": 38,
   "id": "00d82eac",
   "metadata": {},
   "outputs": [],
   "source": [
    "#conversão da coluna 'preços' em float64\n",
    "\n",
    "dataset.drop(['index'], axis=1, inplace=True)\n",
    "dataset['Precos R$'] = dataset['Precos R$'].astype(np.float64)"
   ]
  },
  {
   "cell_type": "code",
   "execution_count": 40,
   "id": "78d7bf87",
   "metadata": {},
   "outputs": [
    {
     "data": {
      "text/html": [
       "<div>\n",
       "<style scoped>\n",
       "    .dataframe tbody tr th:only-of-type {\n",
       "        vertical-align: middle;\n",
       "    }\n",
       "\n",
       "    .dataframe tbody tr th {\n",
       "        vertical-align: top;\n",
       "    }\n",
       "\n",
       "    .dataframe thead th {\n",
       "        text-align: right;\n",
       "    }\n",
       "</style>\n",
       "<table border=\"1\" class=\"dataframe\">\n",
       "  <thead>\n",
       "    <tr style=\"text-align: right;\">\n",
       "      <th></th>\n",
       "      <th>Aparelhos</th>\n",
       "      <th>Precos R$</th>\n",
       "      <th>Estado</th>\n",
       "      <th>Links</th>\n",
       "    </tr>\n",
       "  </thead>\n",
       "  <tbody>\n",
       "    <tr>\n",
       "      <th>0</th>\n",
       "      <td>Apple iPhone 12 (64 GB) - Verde</td>\n",
       "      <td>4199.0</td>\n",
       "      <td>Novo</td>\n",
       "      <td>https://www.mercadolivre.com.br/apple-iphone-1...</td>\n",
       "    </tr>\n",
       "    <tr>\n",
       "      <th>1</th>\n",
       "      <td>iPhone 7 128 GB dourado</td>\n",
       "      <td>1271.0</td>\n",
       "      <td>Novo</td>\n",
       "      <td>https://www.mercadolivre.com.br/iphone-7-128-g...</td>\n",
       "    </tr>\n",
       "    <tr>\n",
       "      <th>2</th>\n",
       "      <td>iPhone 8 Plus 64 GB cinza-espacial</td>\n",
       "      <td>1840.0</td>\n",
       "      <td>Novo</td>\n",
       "      <td>https://www.mercadolivre.com.br/iphone-8-plus-...</td>\n",
       "    </tr>\n",
       "    <tr>\n",
       "      <th>3</th>\n",
       "      <td>Apple iPhone 11 (128 GB) - Preto</td>\n",
       "      <td>3699.0</td>\n",
       "      <td>Novo</td>\n",
       "      <td>https://www.mercadolivre.com.br/apple-iphone-1...</td>\n",
       "    </tr>\n",
       "    <tr>\n",
       "      <th>4</th>\n",
       "      <td>Apple iPhone 11 (64 GB) - Preto</td>\n",
       "      <td>3199.0</td>\n",
       "      <td>Novo</td>\n",
       "      <td>https://www.mercadolivre.com.br/apple-iphone-1...</td>\n",
       "    </tr>\n",
       "  </tbody>\n",
       "</table>\n",
       "</div>"
      ],
      "text/plain": [
       "                             Aparelhos  Precos R$ Estado  \\\n",
       "0      Apple iPhone 12 (64 GB) - Verde     4199.0   Novo   \n",
       "1              iPhone 7 128 GB dourado     1271.0   Novo   \n",
       "2   iPhone 8 Plus 64 GB cinza-espacial     1840.0   Novo   \n",
       "3     Apple iPhone 11 (128 GB) - Preto     3699.0   Novo   \n",
       "4      Apple iPhone 11 (64 GB) - Preto     3199.0   Novo   \n",
       "\n",
       "                                               Links  \n",
       "0  https://www.mercadolivre.com.br/apple-iphone-1...  \n",
       "1  https://www.mercadolivre.com.br/iphone-7-128-g...  \n",
       "2  https://www.mercadolivre.com.br/iphone-8-plus-...  \n",
       "3  https://www.mercadolivre.com.br/apple-iphone-1...  \n",
       "4  https://www.mercadolivre.com.br/apple-iphone-1...  "
      ]
     },
     "execution_count": 40,
     "metadata": {},
     "output_type": "execute_result"
    }
   ],
   "source": [
    "dataset.head()"
   ]
  },
  {
   "cell_type": "code",
   "execution_count": 41,
   "id": "caa48263",
   "metadata": {},
   "outputs": [],
   "source": [
    "#armazenamento do dataset em um arquivo xlsx\n",
    "dataset.to_excel('WebScrapingMercadoLivreIphone.xlsx', index=False)"
   ]
  },
  {
   "cell_type": "code",
   "execution_count": 2,
   "id": "07f678f3",
   "metadata": {},
   "outputs": [
    {
     "data": {
      "text/html": [
       "<div>\n",
       "<style scoped>\n",
       "    .dataframe tbody tr th:only-of-type {\n",
       "        vertical-align: middle;\n",
       "    }\n",
       "\n",
       "    .dataframe tbody tr th {\n",
       "        vertical-align: top;\n",
       "    }\n",
       "\n",
       "    .dataframe thead th {\n",
       "        text-align: right;\n",
       "    }\n",
       "</style>\n",
       "<table border=\"1\" class=\"dataframe\">\n",
       "  <thead>\n",
       "    <tr style=\"text-align: right;\">\n",
       "      <th></th>\n",
       "      <th>Aparelhos</th>\n",
       "      <th>Precos R$</th>\n",
       "      <th>Estado</th>\n",
       "      <th>Links</th>\n",
       "    </tr>\n",
       "  </thead>\n",
       "  <tbody>\n",
       "    <tr>\n",
       "      <th>1994</th>\n",
       "      <td>Usado: iPhone 8 64gb Prateado Bom - Trocafone</td>\n",
       "      <td>1559</td>\n",
       "      <td>Usado</td>\n",
       "      <td>https://produto.mercadolivre.com.br/MLB-209493...</td>\n",
       "    </tr>\n",
       "    <tr>\n",
       "      <th>1995</th>\n",
       "      <td>iPhone 7 32gb</td>\n",
       "      <td>800</td>\n",
       "      <td>Usado</td>\n",
       "      <td>https://produto.mercadolivre.com.br/MLB-212855...</td>\n",
       "    </tr>\n",
       "    <tr>\n",
       "      <th>1996</th>\n",
       "      <td>iPhone 11 64gb Preto Novo</td>\n",
       "      <td>3739</td>\n",
       "      <td>Novo</td>\n",
       "      <td>https://produto.mercadolivre.com.br/MLB-262198...</td>\n",
       "    </tr>\n",
       "    <tr>\n",
       "      <th>1997</th>\n",
       "      <td>Apple iPhone 8 Plus (64 Gb) - Original Vitrine...</td>\n",
       "      <td>2449</td>\n",
       "      <td>Novo</td>\n",
       "      <td>https://produto.mercadolivre.com.br/MLB-262279...</td>\n",
       "    </tr>\n",
       "    <tr>\n",
       "      <th>1998</th>\n",
       "      <td>iPhone 6s Plus 32 Gb Cor Prata/original/novo C...</td>\n",
       "      <td>1858</td>\n",
       "      <td>Novo</td>\n",
       "      <td>https://produto.mercadolivre.com.br/MLB-268492...</td>\n",
       "    </tr>\n",
       "  </tbody>\n",
       "</table>\n",
       "</div>"
      ],
      "text/plain": [
       "                                              Aparelhos  Precos R$ Estado  \\\n",
       "1994      Usado: iPhone 8 64gb Prateado Bom - Trocafone       1559  Usado   \n",
       "1995                                      iPhone 7 32gb        800  Usado   \n",
       "1996                         iPhone 11 64gb Preto Novo        3739   Novo   \n",
       "1997  Apple iPhone 8 Plus (64 Gb) - Original Vitrine...       2449   Novo   \n",
       "1998  iPhone 6s Plus 32 Gb Cor Prata/original/novo C...       1858   Novo   \n",
       "\n",
       "                                                  Links  \n",
       "1994  https://produto.mercadolivre.com.br/MLB-209493...  \n",
       "1995  https://produto.mercadolivre.com.br/MLB-212855...  \n",
       "1996  https://produto.mercadolivre.com.br/MLB-262198...  \n",
       "1997  https://produto.mercadolivre.com.br/MLB-262279...  \n",
       "1998  https://produto.mercadolivre.com.br/MLB-268492...  "
      ]
     },
     "execution_count": 2,
     "metadata": {},
     "output_type": "execute_result"
    }
   ],
   "source": [
    "#leitura do dataset\n",
    "Iphones = pd.read_excel('WebScrapingMercadoLivreIphone.xlsx')\n",
    "Iphones.tail()"
   ]
  },
  {
   "cell_type": "code",
   "execution_count": 188,
   "id": "1f4e6029",
   "metadata": {},
   "outputs": [
    {
     "data": {
      "text/html": [
       "<div>\n",
       "<style scoped>\n",
       "    .dataframe tbody tr th:only-of-type {\n",
       "        vertical-align: middle;\n",
       "    }\n",
       "\n",
       "    .dataframe tbody tr th {\n",
       "        vertical-align: top;\n",
       "    }\n",
       "\n",
       "    .dataframe thead th {\n",
       "        text-align: right;\n",
       "    }\n",
       "</style>\n",
       "<table border=\"1\" class=\"dataframe\">\n",
       "  <thead>\n",
       "    <tr style=\"text-align: right;\">\n",
       "      <th></th>\n",
       "      <th>Aparelhos</th>\n",
       "      <th>Precos R$</th>\n",
       "      <th>Estado</th>\n",
       "      <th>Links</th>\n",
       "    </tr>\n",
       "  </thead>\n",
       "  <tbody>\n",
       "    <tr>\n",
       "      <th>1335</th>\n",
       "      <td>50 Unidades - iPhone SE Mp822br/a 4 32gb - Cin...</td>\n",
       "      <td>30305</td>\n",
       "      <td>Usado</td>\n",
       "      <td>https://produto.mercadolivre.com.br/MLB-263210...</td>\n",
       "    </tr>\n",
       "  </tbody>\n",
       "</table>\n",
       "</div>"
      ],
      "text/plain": [
       "                                              Aparelhos  Precos R$ Estado  \\\n",
       "1335  50 Unidades - iPhone SE Mp822br/a 4 32gb - Cin...      30305  Usado   \n",
       "\n",
       "                                                  Links  \n",
       "1335  https://produto.mercadolivre.com.br/MLB-263210...  "
      ]
     },
     "execution_count": 188,
     "metadata": {},
     "output_type": "execute_result"
    }
   ],
   "source": [
    "#produto mais caro\n",
    "Iphones['Precos R$'].astype(float)\n",
    "Iphones['Precos R$'].max()\n",
    "Iphones.loc[Iphones['Precos R$'] == 30305]"
   ]
  },
  {
   "cell_type": "code",
   "execution_count": 190,
   "id": "e811517a",
   "metadata": {},
   "outputs": [
    {
     "data": {
      "text/html": [
       "<div>\n",
       "<style scoped>\n",
       "    .dataframe tbody tr th:only-of-type {\n",
       "        vertical-align: middle;\n",
       "    }\n",
       "\n",
       "    .dataframe tbody tr th {\n",
       "        vertical-align: top;\n",
       "    }\n",
       "\n",
       "    .dataframe thead th {\n",
       "        text-align: right;\n",
       "    }\n",
       "</style>\n",
       "<table border=\"1\" class=\"dataframe\">\n",
       "  <thead>\n",
       "    <tr style=\"text-align: right;\">\n",
       "      <th></th>\n",
       "      <th>Aparelhos</th>\n",
       "      <th>Precos R$</th>\n",
       "      <th>Estado</th>\n",
       "      <th>Links</th>\n",
       "    </tr>\n",
       "  </thead>\n",
       "  <tbody>\n",
       "    <tr>\n",
       "      <th>988</th>\n",
       "      <td>Teclado Bluetooth Para iPhone E Android</td>\n",
       "      <td>20</td>\n",
       "      <td>Novo</td>\n",
       "      <td>https://produto.mercadolivre.com.br/MLB-163072...</td>\n",
       "    </tr>\n",
       "  </tbody>\n",
       "</table>\n",
       "</div>"
      ],
      "text/plain": [
       "                                   Aparelhos  Precos R$ Estado  \\\n",
       "988  Teclado Bluetooth Para iPhone E Android         20   Novo   \n",
       "\n",
       "                                                 Links  \n",
       "988  https://produto.mercadolivre.com.br/MLB-163072...  "
      ]
     },
     "execution_count": 190,
     "metadata": {},
     "output_type": "execute_result"
    }
   ],
   "source": [
    "#produto mais barato\n",
    "Iphones['Precos R$'].min()\n",
    "Iphones.loc[Iphones['Precos R$'] == 20]"
   ]
  },
  {
   "cell_type": "code",
   "execution_count": 193,
   "id": "766d3ead",
   "metadata": {},
   "outputs": [
    {
     "data": {
      "image/png": "[encoded data removed]",
      "text/plain": [
       "<Figure size 720x432 with 1 Axes>"
      ]
     },
     "metadata": {
      "needs_background": "light"
     },
     "output_type": "display_data"
    }
   ],
   "source": [
    "plt.figure(figsize = (10,6))\n",
    "sns.boxplot(x='Precos R$', y='Estado', data=Iphones, palette=\"Set2\")\n",
    "plt.xlabel('Preços (R$)', fontsize=13);\n",
    "plt.ylabel('', fontsize=16);\n",
    "plt.title('Busca \"iPhone\" (todos modelos)', fontsize=14)\n",
    "plt.show()"
   ]
  },
  {
   "cell_type": "markdown",
   "id": "29a0b090",
   "metadata": {},
   "source": [
    "## iPhone 13"
   ]
  },
  {
   "cell_type": "code",
   "execution_count": 6,
   "id": "4c4df3d1",
   "metadata": {},
   "outputs": [
    {
     "data": {
      "text/html": [
       "<div>\n",
       "<style scoped>\n",
       "    .dataframe tbody tr th:only-of-type {\n",
       "        vertical-align: middle;\n",
       "    }\n",
       "\n",
       "    .dataframe tbody tr th {\n",
       "        vertical-align: top;\n",
       "    }\n",
       "\n",
       "    .dataframe thead th {\n",
       "        text-align: right;\n",
       "    }\n",
       "</style>\n",
       "<table border=\"1\" class=\"dataframe\">\n",
       "  <thead>\n",
       "    <tr style=\"text-align: right;\">\n",
       "      <th></th>\n",
       "      <th>Aparelhos</th>\n",
       "      <th>Precos R$</th>\n",
       "      <th>Estado</th>\n",
       "      <th>Links</th>\n",
       "    </tr>\n",
       "  </thead>\n",
       "  <tbody>\n",
       "    <tr>\n",
       "      <th>6</th>\n",
       "      <td>Apple iPhone 13 (128 GB) - Meia-noite</td>\n",
       "      <td>5400</td>\n",
       "      <td>Novo</td>\n",
       "      <td>https://www.mercadolivre.com.br/apple-iphone-1...</td>\n",
       "    </tr>\n",
       "    <tr>\n",
       "      <th>17</th>\n",
       "      <td>Apple iPhone 13 Pro (256 GB) - Azul-Sierra</td>\n",
       "      <td>7929</td>\n",
       "      <td>Novo</td>\n",
       "      <td>https://www.mercadolivre.com.br/apple-iphone-1...</td>\n",
       "    </tr>\n",
       "    <tr>\n",
       "      <th>22</th>\n",
       "      <td>Apple iPhone 13 Pro Max (256 GB) - Azul-Sierra</td>\n",
       "      <td>8531</td>\n",
       "      <td>Novo</td>\n",
       "      <td>https://www.mercadolivre.com.br/apple-iphone-1...</td>\n",
       "    </tr>\n",
       "    <tr>\n",
       "      <th>24</th>\n",
       "      <td>Apple iPhone 13 Pro Max (128 GB) - Azul-Sierra</td>\n",
       "      <td>8215</td>\n",
       "      <td>Novo</td>\n",
       "      <td>https://www.mercadolivre.com.br/apple-iphone-1...</td>\n",
       "    </tr>\n",
       "    <tr>\n",
       "      <th>28</th>\n",
       "      <td>Apple iPhone 13 (256 GB) - Meia-noite</td>\n",
       "      <td>6479</td>\n",
       "      <td>Novo</td>\n",
       "      <td>https://www.mercadolivre.com.br/apple-iphone-1...</td>\n",
       "    </tr>\n",
       "    <tr>\n",
       "      <th>...</th>\n",
       "      <td>...</td>\n",
       "      <td>...</td>\n",
       "      <td>...</td>\n",
       "      <td>...</td>\n",
       "    </tr>\n",
       "    <tr>\n",
       "      <th>1952</th>\n",
       "      <td>Apple iPhone 13 Pro (256 Gb) - Grafite Novo La...</td>\n",
       "      <td>8499</td>\n",
       "      <td>Novo</td>\n",
       "      <td>https://produto.mercadolivre.com.br/MLB-261858...</td>\n",
       "    </tr>\n",
       "    <tr>\n",
       "      <th>1967</th>\n",
       "      <td>iPhone 13 Pro 128 Gb</td>\n",
       "      <td>7000</td>\n",
       "      <td>Usado</td>\n",
       "      <td>https://produto.mercadolivre.com.br/MLB-215740...</td>\n",
       "    </tr>\n",
       "    <tr>\n",
       "      <th>1969</th>\n",
       "      <td>iPhone 13 128gb Estado De Novo Parcelado Em At...</td>\n",
       "      <td>6490</td>\n",
       "      <td>Usado</td>\n",
       "      <td>https://produto.mercadolivre.com.br/MLB-269369...</td>\n",
       "    </tr>\n",
       "    <tr>\n",
       "      <th>1970</th>\n",
       "      <td>Apple iPhone 13 Mini (128gb) - Meia-noite</td>\n",
       "      <td>6317</td>\n",
       "      <td>Novo</td>\n",
       "      <td>https://produto.mercadolivre.com.br/MLB-264410...</td>\n",
       "    </tr>\n",
       "    <tr>\n",
       "      <th>1981</th>\n",
       "      <td>Apple iPhone 13 Pro Max (128gb) - Verde-alpino</td>\n",
       "      <td>8705</td>\n",
       "      <td>Novo</td>\n",
       "      <td>https://produto.mercadolivre.com.br/MLB-260721...</td>\n",
       "    </tr>\n",
       "  </tbody>\n",
       "</table>\n",
       "<p>204 rows × 4 columns</p>\n",
       "</div>"
      ],
      "text/plain": [
       "                                              Aparelhos  Precos R$ Estado  \\\n",
       "6                 Apple iPhone 13 (128 GB) - Meia-noite       5400   Novo   \n",
       "17           Apple iPhone 13 Pro (256 GB) - Azul-Sierra       7929   Novo   \n",
       "22       Apple iPhone 13 Pro Max (256 GB) - Azul-Sierra       8531   Novo   \n",
       "24       Apple iPhone 13 Pro Max (128 GB) - Azul-Sierra       8215   Novo   \n",
       "28                Apple iPhone 13 (256 GB) - Meia-noite       6479   Novo   \n",
       "...                                                 ...        ...    ...   \n",
       "1952  Apple iPhone 13 Pro (256 Gb) - Grafite Novo La...       8499   Novo   \n",
       "1967                               iPhone 13 Pro 128 Gb       7000  Usado   \n",
       "1969  iPhone 13 128gb Estado De Novo Parcelado Em At...       6490  Usado   \n",
       "1970          Apple iPhone 13 Mini (128gb) - Meia-noite       6317   Novo   \n",
       "1981    Apple iPhone 13 Pro Max (128gb) - Verde-alpino        8705   Novo   \n",
       "\n",
       "                                                  Links  \n",
       "6     https://www.mercadolivre.com.br/apple-iphone-1...  \n",
       "17    https://www.mercadolivre.com.br/apple-iphone-1...  \n",
       "22    https://www.mercadolivre.com.br/apple-iphone-1...  \n",
       "24    https://www.mercadolivre.com.br/apple-iphone-1...  \n",
       "28    https://www.mercadolivre.com.br/apple-iphone-1...  \n",
       "...                                                 ...  \n",
       "1952  https://produto.mercadolivre.com.br/MLB-261858...  \n",
       "1967  https://produto.mercadolivre.com.br/MLB-215740...  \n",
       "1969  https://produto.mercadolivre.com.br/MLB-269369...  \n",
       "1970  https://produto.mercadolivre.com.br/MLB-264410...  \n",
       "1981  https://produto.mercadolivre.com.br/MLB-260721...  \n",
       "\n",
       "[204 rows x 4 columns]"
      ]
     },
     "execution_count": 6,
     "metadata": {},
     "output_type": "execute_result"
    }
   ],
   "source": [
    "Iphone_13 = Iphones[ Iphones['Aparelhos'].str.contains(\" 13 \", case=False) ]\n",
    "Iphone_13"
   ]
  },
  {
   "cell_type": "markdown",
   "id": "e44c1261",
   "metadata": {},
   "source": [
    "#### iPhone 13 1 TB"
   ]
  },
  {
   "cell_type": "code",
   "execution_count": 160,
   "id": "de73e18f",
   "metadata": {},
   "outputs": [
    {
     "data": {
      "text/html": [
       "<div>\n",
       "<style scoped>\n",
       "    .dataframe tbody tr th:only-of-type {\n",
       "        vertical-align: middle;\n",
       "    }\n",
       "\n",
       "    .dataframe tbody tr th {\n",
       "        vertical-align: top;\n",
       "    }\n",
       "\n",
       "    .dataframe thead th {\n",
       "        text-align: right;\n",
       "    }\n",
       "</style>\n",
       "<table border=\"1\" class=\"dataframe\">\n",
       "  <thead>\n",
       "    <tr style=\"text-align: right;\">\n",
       "      <th></th>\n",
       "      <th>Aparelhos</th>\n",
       "      <th>Precos R$</th>\n",
       "      <th>Estado</th>\n",
       "      <th>Links</th>\n",
       "    </tr>\n",
       "  </thead>\n",
       "  <tbody>\n",
       "    <tr>\n",
       "      <th>64</th>\n",
       "      <td>Apple iPhone 13 Pro (1 TB) - Prateado</td>\n",
       "      <td>12469</td>\n",
       "      <td>Novo</td>\n",
       "      <td>https://www.mercadolivre.com.br/apple-iphone-1...</td>\n",
       "    </tr>\n",
       "    <tr>\n",
       "      <th>772</th>\n",
       "      <td>Apple iPhone 13 Pro Max (1tb) - Verde Alpino</td>\n",
       "      <td>16800</td>\n",
       "      <td>Novo</td>\n",
       "      <td>https://produto.mercadolivre.com.br/MLB-268251...</td>\n",
       "    </tr>\n",
       "    <tr>\n",
       "      <th>1115</th>\n",
       "      <td>Apple iPhone 13 Pro Max (1 Tb) - Dourado</td>\n",
       "      <td>16997</td>\n",
       "      <td>Novo</td>\n",
       "      <td>https://produto.mercadolivre.com.br/MLB-269494...</td>\n",
       "    </tr>\n",
       "    <tr>\n",
       "      <th>1194</th>\n",
       "      <td>Apple iPhone 13 Pro Max (1 Tb) - Azul-sierra</td>\n",
       "      <td>16997</td>\n",
       "      <td>Novo</td>\n",
       "      <td>https://produto.mercadolivre.com.br/MLB-269495...</td>\n",
       "    </tr>\n",
       "    <tr>\n",
       "      <th>1859</th>\n",
       "      <td>Apple iPhone 13 Pro (1tb) - Prateado</td>\n",
       "      <td>12469</td>\n",
       "      <td>Novo</td>\n",
       "      <td>https://produto.mercadolivre.com.br/MLB-207496...</td>\n",
       "    </tr>\n",
       "  </tbody>\n",
       "</table>\n",
       "</div>"
      ],
      "text/plain": [
       "                                         Aparelhos  Precos R$ Estado  \\\n",
       "64           Apple iPhone 13 Pro (1 TB) - Prateado      12469   Novo   \n",
       "772   Apple iPhone 13 Pro Max (1tb) - Verde Alpino      16800   Novo   \n",
       "1115      Apple iPhone 13 Pro Max (1 Tb) - Dourado      16997   Novo   \n",
       "1194  Apple iPhone 13 Pro Max (1 Tb) - Azul-sierra      16997   Novo   \n",
       "1859          Apple iPhone 13 Pro (1tb) - Prateado      12469   Novo   \n",
       "\n",
       "                                                  Links  \n",
       "64    https://www.mercadolivre.com.br/apple-iphone-1...  \n",
       "772   https://produto.mercadolivre.com.br/MLB-268251...  \n",
       "1115  https://produto.mercadolivre.com.br/MLB-269494...  \n",
       "1194  https://produto.mercadolivre.com.br/MLB-269495...  \n",
       "1859  https://produto.mercadolivre.com.br/MLB-207496...  "
      ]
     },
     "execution_count": 160,
     "metadata": {},
     "output_type": "execute_result"
    }
   ],
   "source": [
    "Iphone_13_1TB = Iphone_13[ Iphone_13['Aparelhos'].str.contains(\"1tb\", case=False) | \n",
    "                          Iphone_13['Aparelhos'].str.contains(\"1 tb\", case=False) ]\n",
    "\n",
    "Iphone_13_1TB['Precos R$'].astype(float)\n",
    "Iphone_13_1TB"
   ]
  },
  {
   "cell_type": "code",
   "execution_count": 168,
   "id": "f89888b9",
   "metadata": {},
   "outputs": [
    {
     "data": {
      "image/png": "[encoded data removed]",
      "text/plain": [
       "<Figure size 720x432 with 1 Axes>"
      ]
     },
     "metadata": {
      "needs_background": "light"
     },
     "output_type": "display_data"
    }
   ],
   "source": [
    "plt.figure(figsize = (10,6))\n",
    "sns.boxplot(x='Precos R$', y='Estado', data=Iphone_13_1TB, palette=\"Set2\")\n",
    "plt.xlabel('Preços (R$)', fontsize=13);\n",
    "plt.ylabel('', fontsize=16);\n",
    "plt.title('iPhone 13 1TB', fontsize=14)\n",
    "plt.show()"
   ]
  },
  {
   "cell_type": "markdown",
   "id": "65070bc0",
   "metadata": {},
   "source": [
    "#### iPhone 13 512 GB"
   ]
  },
  {
   "cell_type": "code",
   "execution_count": 169,
   "id": "c6feaad0",
   "metadata": {},
   "outputs": [
    {
     "data": {
      "text/html": [
       "<div>\n",
       "<style scoped>\n",
       "    .dataframe tbody tr th:only-of-type {\n",
       "        vertical-align: middle;\n",
       "    }\n",
       "\n",
       "    .dataframe tbody tr th {\n",
       "        vertical-align: top;\n",
       "    }\n",
       "\n",
       "    .dataframe thead th {\n",
       "        text-align: right;\n",
       "    }\n",
       "</style>\n",
       "<table border=\"1\" class=\"dataframe\">\n",
       "  <thead>\n",
       "    <tr style=\"text-align: right;\">\n",
       "      <th></th>\n",
       "      <th>Aparelhos</th>\n",
       "      <th>Precos R$</th>\n",
       "      <th>Estado</th>\n",
       "      <th>Links</th>\n",
       "    </tr>\n",
       "  </thead>\n",
       "  <tbody>\n",
       "    <tr>\n",
       "      <th>118</th>\n",
       "      <td>Ouro 24k Apple iPhone 13 Pro 512 Gb Banhado A ...</td>\n",
       "      <td>27900</td>\n",
       "      <td>Novo</td>\n",
       "      <td>https://produto.mercadolivre.com.br/MLB-219022...</td>\n",
       "    </tr>\n",
       "    <tr>\n",
       "      <th>126</th>\n",
       "      <td>Ouro 24k Apple iPhone 13 Pro 512 Gb Banhado A ...</td>\n",
       "      <td>27900</td>\n",
       "      <td>Novo</td>\n",
       "      <td>https://produto.mercadolivre.com.br/MLB-219023...</td>\n",
       "    </tr>\n",
       "    <tr>\n",
       "      <th>180</th>\n",
       "      <td>Apple iPhone 13 Mini (512 Gb) Rosa</td>\n",
       "      <td>6740</td>\n",
       "      <td>Novo</td>\n",
       "      <td>https://produto.mercadolivre.com.br/MLB-202313...</td>\n",
       "    </tr>\n",
       "    <tr>\n",
       "      <th>255</th>\n",
       "      <td>Apple iPhone 13 (512 Gb) Rosa</td>\n",
       "      <td>7252</td>\n",
       "      <td>Novo</td>\n",
       "      <td>https://produto.mercadolivre.com.br/MLB-202318...</td>\n",
       "    </tr>\n",
       "    <tr>\n",
       "      <th>269</th>\n",
       "      <td>iPhone 13 512gb Meia-noite Apple</td>\n",
       "      <td>8499</td>\n",
       "      <td>Novo</td>\n",
       "      <td>https://produto.mercadolivre.com.br/MLB-222051...</td>\n",
       "    </tr>\n",
       "  </tbody>\n",
       "</table>\n",
       "</div>"
      ],
      "text/plain": [
       "                                             Aparelhos  Precos R$ Estado  \\\n",
       "118  Ouro 24k Apple iPhone 13 Pro 512 Gb Banhado A ...      27900   Novo   \n",
       "126  Ouro 24k Apple iPhone 13 Pro 512 Gb Banhado A ...      27900   Novo   \n",
       "180                 Apple iPhone 13 Mini (512 Gb) Rosa       6740   Novo   \n",
       "255                      Apple iPhone 13 (512 Gb) Rosa       7252   Novo   \n",
       "269                   iPhone 13 512gb Meia-noite Apple       8499   Novo   \n",
       "\n",
       "                                                 Links  \n",
       "118  https://produto.mercadolivre.com.br/MLB-219022...  \n",
       "126  https://produto.mercadolivre.com.br/MLB-219023...  \n",
       "180  https://produto.mercadolivre.com.br/MLB-202313...  \n",
       "255  https://produto.mercadolivre.com.br/MLB-202318...  \n",
       "269  https://produto.mercadolivre.com.br/MLB-222051...  "
      ]
     },
     "execution_count": 169,
     "metadata": {},
     "output_type": "execute_result"
    }
   ],
   "source": [
    "Iphone_13_512GB = Iphone_13[ Iphone_13['Aparelhos'].str.contains(\"512gb\", case=False) | \n",
    "                            Iphone_13['Aparelhos'].str.contains(\"512 gb\", case=False) ]\n",
    "\n",
    "Iphone_13_512GB['Precos R$'].astype(float)\n",
    "Iphone_13_512GB.head()"
   ]
  },
  {
   "cell_type": "code",
   "execution_count": 170,
   "id": "cb5325c3",
   "metadata": {},
   "outputs": [
    {
     "data": {
      "image/png": "[encoded data removed]",
      "text/plain": [
       "<Figure size 720x432 with 1 Axes>"
      ]
     },
     "metadata": {
      "needs_background": "light"
     },
     "output_type": "display_data"
    }
   ],
   "source": [
    "plt.figure(figsize = (10,6))\n",
    "sns.boxplot(x='Precos R$', y='Estado', data=Iphone_13_512GB, palette=\"Set2\")\n",
    "plt.xlabel('Preços (R$)', fontsize=13);\n",
    "plt.ylabel('', fontsize=16);\n",
    "plt.title('iPhone 13 512GB', fontsize=14)\n",
    "plt.show()"
   ]
  },
  {
   "cell_type": "markdown",
   "id": "5f5438e2",
   "metadata": {},
   "source": [
    "#### iPhone 13 256 GB"
   ]
  },
  {
   "cell_type": "code",
   "execution_count": 210,
   "id": "90efe806",
   "metadata": {},
   "outputs": [
    {
     "data": {
      "text/html": [
       "<div>\n",
       "<style scoped>\n",
       "    .dataframe tbody tr th:only-of-type {\n",
       "        vertical-align: middle;\n",
       "    }\n",
       "\n",
       "    .dataframe tbody tr th {\n",
       "        vertical-align: top;\n",
       "    }\n",
       "\n",
       "    .dataframe thead th {\n",
       "        text-align: right;\n",
       "    }\n",
       "</style>\n",
       "<table border=\"1\" class=\"dataframe\">\n",
       "  <thead>\n",
       "    <tr style=\"text-align: right;\">\n",
       "      <th></th>\n",
       "      <th>Aparelhos</th>\n",
       "      <th>Precos R$</th>\n",
       "      <th>Estado</th>\n",
       "      <th>Links</th>\n",
       "    </tr>\n",
       "  </thead>\n",
       "  <tbody>\n",
       "    <tr>\n",
       "      <th>17</th>\n",
       "      <td>Apple iPhone 13 Pro (256 GB) - Azul-Sierra</td>\n",
       "      <td>7929</td>\n",
       "      <td>Novo</td>\n",
       "      <td>https://www.mercadolivre.com.br/apple-iphone-1...</td>\n",
       "    </tr>\n",
       "    <tr>\n",
       "      <th>22</th>\n",
       "      <td>Apple iPhone 13 Pro Max (256 GB) - Azul-Sierra</td>\n",
       "      <td>8531</td>\n",
       "      <td>Novo</td>\n",
       "      <td>https://www.mercadolivre.com.br/apple-iphone-1...</td>\n",
       "    </tr>\n",
       "    <tr>\n",
       "      <th>28</th>\n",
       "      <td>Apple iPhone 13 (256 GB) - Meia-noite</td>\n",
       "      <td>6479</td>\n",
       "      <td>Novo</td>\n",
       "      <td>https://www.mercadolivre.com.br/apple-iphone-1...</td>\n",
       "    </tr>\n",
       "    <tr>\n",
       "      <th>99</th>\n",
       "      <td>iPhone 13 256gb Estelar Apple</td>\n",
       "      <td>6799</td>\n",
       "      <td>Novo</td>\n",
       "      <td>https://produto.mercadolivre.com.br/MLB-222050...</td>\n",
       "    </tr>\n",
       "    <tr>\n",
       "      <th>110</th>\n",
       "      <td>Apple iPhone 13 (256 Gb) - Rosa Novo Lacrado N...</td>\n",
       "      <td>6499</td>\n",
       "      <td>Novo</td>\n",
       "      <td>https://produto.mercadolivre.com.br/MLB-260197...</td>\n",
       "    </tr>\n",
       "  </tbody>\n",
       "</table>\n",
       "</div>"
      ],
      "text/plain": [
       "                                             Aparelhos  Precos R$ Estado  \\\n",
       "17          Apple iPhone 13 Pro (256 GB) - Azul-Sierra       7929   Novo   \n",
       "22      Apple iPhone 13 Pro Max (256 GB) - Azul-Sierra       8531   Novo   \n",
       "28               Apple iPhone 13 (256 GB) - Meia-noite       6479   Novo   \n",
       "99                      iPhone 13 256gb Estelar Apple        6799   Novo   \n",
       "110  Apple iPhone 13 (256 Gb) - Rosa Novo Lacrado N...       6499   Novo   \n",
       "\n",
       "                                                 Links  \n",
       "17   https://www.mercadolivre.com.br/apple-iphone-1...  \n",
       "22   https://www.mercadolivre.com.br/apple-iphone-1...  \n",
       "28   https://www.mercadolivre.com.br/apple-iphone-1...  \n",
       "99   https://produto.mercadolivre.com.br/MLB-222050...  \n",
       "110  https://produto.mercadolivre.com.br/MLB-260197...  "
      ]
     },
     "execution_count": 210,
     "metadata": {},
     "output_type": "execute_result"
    }
   ],
   "source": [
    "Iphone_13_256GB = Iphone_13[ Iphone_13['Aparelhos'].str.contains(\"256gb\", case=False) | \n",
    "                            Iphone_13['Aparelhos'].str.contains(\"256 gb\", case=False) ]\n",
    "\n",
    "Iphone_13_256GB['Precos R$'].astype(float)\n",
    "Iphone_13_256GB.head()"
   ]
  },
  {
   "cell_type": "code",
   "execution_count": 241,
   "id": "10c09e6a",
   "metadata": {},
   "outputs": [
    {
     "data": {
      "text/plain": [
       "<Figure size 720x360 with 0 Axes>"
      ]
     },
     "metadata": {},
     "output_type": "display_data"
    },
    {
     "data": {
      "image/png": "[encoded data removed]",
      "text/plain": [
       "<Figure size 427.125x360 with 1 Axes>"
      ]
     },
     "metadata": {
      "needs_background": "light"
     },
     "output_type": "display_data"
    }
   ],
   "source": [
    "plt.figure(figsize = (10,5))\n",
    "sns.displot(data=Iphone_13_256GB, x='Precos R$', hue='Estado', palette='Greens', kde=True)\n",
    "plt.xlabel('Preços (R$)', fontsize=13);\n",
    "plt.ylabel('', fontsize=16);\n",
    "plt.title('iPhone 13 256 GB', fontsize=14)\n",
    "plt.show()"
   ]
  },
  {
   "cell_type": "code",
   "execution_count": 172,
   "id": "116e7d36",
   "metadata": {},
   "outputs": [
    {
     "data": {
      "image/png": "[encoded data removed]",
      "text/plain": [
       "<Figure size 720x432 with 1 Axes>"
      ]
     },
     "metadata": {
      "needs_background": "light"
     },
     "output_type": "display_data"
    }
   ],
   "source": [
    "plt.figure(figsize = (10,6))\n",
    "sns.boxplot(x='Precos R$', y='Estado', data=Iphone_13_256GB, palette=\"Set2\")\n",
    "plt.xlabel('Preços (R$)', fontsize=13);\n",
    "plt.ylabel('', fontsize=16);\n",
    "plt.title('iPhone 13 256GB', fontsize=14)\n",
    "plt.show()"
   ]
  },
  {
   "cell_type": "markdown",
   "id": "52c78654",
   "metadata": {},
   "source": [
    "#### iPhone 13 128 GB"
   ]
  },
  {
   "cell_type": "code",
   "execution_count": 173,
   "id": "b5b8e90b",
   "metadata": {},
   "outputs": [
    {
     "data": {
      "text/html": [
       "<div>\n",
       "<style scoped>\n",
       "    .dataframe tbody tr th:only-of-type {\n",
       "        vertical-align: middle;\n",
       "    }\n",
       "\n",
       "    .dataframe tbody tr th {\n",
       "        vertical-align: top;\n",
       "    }\n",
       "\n",
       "    .dataframe thead th {\n",
       "        text-align: right;\n",
       "    }\n",
       "</style>\n",
       "<table border=\"1\" class=\"dataframe\">\n",
       "  <thead>\n",
       "    <tr style=\"text-align: right;\">\n",
       "      <th></th>\n",
       "      <th>Aparelhos</th>\n",
       "      <th>Precos R$</th>\n",
       "      <th>Estado</th>\n",
       "      <th>Links</th>\n",
       "    </tr>\n",
       "  </thead>\n",
       "  <tbody>\n",
       "    <tr>\n",
       "      <th>6</th>\n",
       "      <td>Apple iPhone 13 (128 GB) - Meia-noite</td>\n",
       "      <td>5400</td>\n",
       "      <td>Novo</td>\n",
       "      <td>https://www.mercadolivre.com.br/apple-iphone-1...</td>\n",
       "    </tr>\n",
       "    <tr>\n",
       "      <th>24</th>\n",
       "      <td>Apple iPhone 13 Pro Max (128 GB) - Azul-Sierra</td>\n",
       "      <td>8215</td>\n",
       "      <td>Novo</td>\n",
       "      <td>https://www.mercadolivre.com.br/apple-iphone-1...</td>\n",
       "    </tr>\n",
       "    <tr>\n",
       "      <th>47</th>\n",
       "      <td>Apple iPhone 13 Pro Max 128gb Verde Alpino</td>\n",
       "      <td>8200</td>\n",
       "      <td>Novo</td>\n",
       "      <td>https://produto.mercadolivre.com.br/MLB-273828...</td>\n",
       "    </tr>\n",
       "    <tr>\n",
       "      <th>59</th>\n",
       "      <td>iPhone 13 128gb Estelar Apple</td>\n",
       "      <td>6199</td>\n",
       "      <td>Novo</td>\n",
       "      <td>https://produto.mercadolivre.com.br/MLB-222054...</td>\n",
       "    </tr>\n",
       "    <tr>\n",
       "      <th>78</th>\n",
       "      <td>iPhone 13 128gb Azul Apple</td>\n",
       "      <td>6299</td>\n",
       "      <td>Novo</td>\n",
       "      <td>https://produto.mercadolivre.com.br/MLB-222049...</td>\n",
       "    </tr>\n",
       "  </tbody>\n",
       "</table>\n",
       "</div>"
      ],
      "text/plain": [
       "                                         Aparelhos  Precos R$ Estado  \\\n",
       "6            Apple iPhone 13 (128 GB) - Meia-noite       5400   Novo   \n",
       "24  Apple iPhone 13 Pro Max (128 GB) - Azul-Sierra       8215   Novo   \n",
       "47      Apple iPhone 13 Pro Max 128gb Verde Alpino       8200   Novo   \n",
       "59                   iPhone 13 128gb Estelar Apple       6199   Novo   \n",
       "78                      iPhone 13 128gb Azul Apple       6299   Novo   \n",
       "\n",
       "                                                Links  \n",
       "6   https://www.mercadolivre.com.br/apple-iphone-1...  \n",
       "24  https://www.mercadolivre.com.br/apple-iphone-1...  \n",
       "47  https://produto.mercadolivre.com.br/MLB-273828...  \n",
       "59  https://produto.mercadolivre.com.br/MLB-222054...  \n",
       "78  https://produto.mercadolivre.com.br/MLB-222049...  "
      ]
     },
     "execution_count": 173,
     "metadata": {},
     "output_type": "execute_result"
    }
   ],
   "source": [
    "Iphone_13_128GB = Iphone_13[ Iphone_13['Aparelhos'].str.contains(\"128gb\", case=False) | \n",
    "                            Iphone_13['Aparelhos'].str.contains(\"128 gb\", case=False) ]\n",
    "\n",
    "Iphone_13_128GB['Precos R$'].astype(float)\n",
    "Iphone_13_128GB.head()"
   ]
  },
  {
   "cell_type": "code",
   "execution_count": 174,
   "id": "9d8c0eb2",
   "metadata": {},
   "outputs": [
    {
     "data": {
      "image/png": "[encoded data removed]",
      "text/plain": [
       "<Figure size 720x432 with 1 Axes>"
      ]
     },
     "metadata": {
      "needs_background": "light"
     },
     "output_type": "display_data"
    }
   ],
   "source": [
    "plt.figure(figsize = (10,6))\n",
    "sns.boxplot(x='Precos R$', y='Estado', data=Iphone_13_128GB, palette=\"Set2\")\n",
    "plt.xlabel('Preços (R$)', fontsize=13);\n",
    "plt.ylabel('', fontsize=16);\n",
    "plt.title('iPhone 13 128GB', fontsize=14)\n",
    "plt.show()"
   ]
  },
  {
   "cell_type": "markdown",
   "id": "67303dc8",
   "metadata": {},
   "source": [
    "#### iPhone 13 64 GB"
   ]
  },
  {
   "cell_type": "code",
   "execution_count": 22,
   "id": "b2abcf9a",
   "metadata": {},
   "outputs": [
    {
     "data": {
      "text/html": [
       "<div>\n",
       "<style scoped>\n",
       "    .dataframe tbody tr th:only-of-type {\n",
       "        vertical-align: middle;\n",
       "    }\n",
       "\n",
       "    .dataframe tbody tr th {\n",
       "        vertical-align: top;\n",
       "    }\n",
       "\n",
       "    .dataframe thead th {\n",
       "        text-align: right;\n",
       "    }\n",
       "</style>\n",
       "<table border=\"1\" class=\"dataframe\">\n",
       "  <thead>\n",
       "    <tr style=\"text-align: right;\">\n",
       "      <th></th>\n",
       "      <th>Aparelhos</th>\n",
       "      <th>Precos R$</th>\n",
       "      <th>Estado</th>\n",
       "      <th>Links</th>\n",
       "    </tr>\n",
       "  </thead>\n",
       "  <tbody>\n",
       "  </tbody>\n",
       "</table>\n",
       "</div>"
      ],
      "text/plain": [
       "Empty DataFrame\n",
       "Columns: [Aparelhos, Precos R$, Estado, Links]\n",
       "Index: []"
      ]
     },
     "execution_count": 22,
     "metadata": {},
     "output_type": "execute_result"
    }
   ],
   "source": [
    "#não apareceu esse modelo na busca\n",
    "\n",
    "Iphone_13_64GB = Iphone_13[ Iphone_13['Aparelhos'].str.contains(\"64gb\", case=False) | \n",
    "                            Iphone_13['Aparelhos'].str.contains(\"64 gb\", case=False) ]\n",
    "\n",
    "Iphone_13_64GB"
   ]
  },
  {
   "cell_type": "markdown",
   "id": "9c52ee76",
   "metadata": {},
   "source": [
    "## iPhone 12"
   ]
  },
  {
   "cell_type": "code",
   "execution_count": 23,
   "id": "900c5c42",
   "metadata": {},
   "outputs": [
    {
     "data": {
      "text/html": [
       "<div>\n",
       "<style scoped>\n",
       "    .dataframe tbody tr th:only-of-type {\n",
       "        vertical-align: middle;\n",
       "    }\n",
       "\n",
       "    .dataframe tbody tr th {\n",
       "        vertical-align: top;\n",
       "    }\n",
       "\n",
       "    .dataframe thead th {\n",
       "        text-align: right;\n",
       "    }\n",
       "</style>\n",
       "<table border=\"1\" class=\"dataframe\">\n",
       "  <thead>\n",
       "    <tr style=\"text-align: right;\">\n",
       "      <th></th>\n",
       "      <th>Aparelhos</th>\n",
       "      <th>Precos R$</th>\n",
       "      <th>Estado</th>\n",
       "      <th>Links</th>\n",
       "    </tr>\n",
       "  </thead>\n",
       "  <tbody>\n",
       "    <tr>\n",
       "      <th>0</th>\n",
       "      <td>Apple iPhone 12 (64 GB) - Verde</td>\n",
       "      <td>4199</td>\n",
       "      <td>Novo</td>\n",
       "      <td>https://www.mercadolivre.com.br/apple-iphone-1...</td>\n",
       "    </tr>\n",
       "    <tr>\n",
       "      <th>10</th>\n",
       "      <td>Apple iPhone 12 (128 GB) - Preto</td>\n",
       "      <td>4859</td>\n",
       "      <td>Novo</td>\n",
       "      <td>https://www.mercadolivre.com.br/apple-iphone-1...</td>\n",
       "    </tr>\n",
       "    <tr>\n",
       "      <th>32</th>\n",
       "      <td>Apple iPhone 5s 16gb Tela 4' Ios 12 Redes Soci...</td>\n",
       "      <td>559</td>\n",
       "      <td>Novo</td>\n",
       "      <td>https://produto.mercadolivre.com.br/MLB-169697...</td>\n",
       "    </tr>\n",
       "    <tr>\n",
       "      <th>53</th>\n",
       "      <td>iPhone 12 64gb Preto Apple</td>\n",
       "      <td>4598</td>\n",
       "      <td>Novo</td>\n",
       "      <td>https://produto.mercadolivre.com.br/MLB-195239...</td>\n",
       "    </tr>\n",
       "    <tr>\n",
       "      <th>56</th>\n",
       "      <td>Apple iPhone 5s 16gb Tela 4' Ios 12 Redes Soci...</td>\n",
       "      <td>559</td>\n",
       "      <td>Novo</td>\n",
       "      <td>https://produto.mercadolivre.com.br/MLB-169697...</td>\n",
       "    </tr>\n",
       "    <tr>\n",
       "      <th>...</th>\n",
       "      <td>...</td>\n",
       "      <td>...</td>\n",
       "      <td>...</td>\n",
       "      <td>...</td>\n",
       "    </tr>\n",
       "    <tr>\n",
       "      <th>1898</th>\n",
       "      <td>iPhone 13 Mini Apple 128gb Verde 5,4 , 5g Câme...</td>\n",
       "      <td>5183</td>\n",
       "      <td>Novo</td>\n",
       "      <td>https://produto.mercadolivre.com.br/MLB-271550...</td>\n",
       "    </tr>\n",
       "    <tr>\n",
       "      <th>1914</th>\n",
       "      <td>Apple iPhone 12 Pro Max 128gb Anatel - Mancha ...</td>\n",
       "      <td>5499</td>\n",
       "      <td>Usado</td>\n",
       "      <td>https://produto.mercadolivre.com.br/MLB-262447...</td>\n",
       "    </tr>\n",
       "    <tr>\n",
       "      <th>1924</th>\n",
       "      <td>iPhone 12 Preto, Com Tela De 6,1 , 5g, 128gb -...</td>\n",
       "      <td>4814</td>\n",
       "      <td>Novo</td>\n",
       "      <td>https://produto.mercadolivre.com.br/MLB-196887...</td>\n",
       "    </tr>\n",
       "    <tr>\n",
       "      <th>1957</th>\n",
       "      <td>Apple iPhone 12 (64 Gb) - Preto</td>\n",
       "      <td>4590</td>\n",
       "      <td>Usado</td>\n",
       "      <td>https://produto.mercadolivre.com.br/MLB-217551...</td>\n",
       "    </tr>\n",
       "    <tr>\n",
       "      <th>1960</th>\n",
       "      <td>Apple iPhone 12 128gb A2403 Anatel Not Fisc Ga...</td>\n",
       "      <td>5291</td>\n",
       "      <td>Novo</td>\n",
       "      <td>https://produto.mercadolivre.com.br/MLB-266054...</td>\n",
       "    </tr>\n",
       "  </tbody>\n",
       "</table>\n",
       "<p>144 rows × 4 columns</p>\n",
       "</div>"
      ],
      "text/plain": [
       "                                              Aparelhos  Precos R$ Estado  \\\n",
       "0                       Apple iPhone 12 (64 GB) - Verde       4199   Novo   \n",
       "10                     Apple iPhone 12 (128 GB) - Preto       4859   Novo   \n",
       "32    Apple iPhone 5s 16gb Tela 4' Ios 12 Redes Soci...        559   Novo   \n",
       "53                           iPhone 12 64gb Preto Apple       4598   Novo   \n",
       "56    Apple iPhone 5s 16gb Tela 4' Ios 12 Redes Soci...        559   Novo   \n",
       "...                                                 ...        ...    ...   \n",
       "1898  iPhone 13 Mini Apple 128gb Verde 5,4 , 5g Câme...       5183   Novo   \n",
       "1914  Apple iPhone 12 Pro Max 128gb Anatel - Mancha ...       5499  Usado   \n",
       "1924  iPhone 12 Preto, Com Tela De 6,1 , 5g, 128gb -...       4814   Novo   \n",
       "1957                    Apple iPhone 12 (64 Gb) - Preto       4590  Usado   \n",
       "1960  Apple iPhone 12 128gb A2403 Anatel Not Fisc Ga...       5291   Novo   \n",
       "\n",
       "                                                  Links  \n",
       "0     https://www.mercadolivre.com.br/apple-iphone-1...  \n",
       "10    https://www.mercadolivre.com.br/apple-iphone-1...  \n",
       "32    https://produto.mercadolivre.com.br/MLB-169697...  \n",
       "53    https://produto.mercadolivre.com.br/MLB-195239...  \n",
       "56    https://produto.mercadolivre.com.br/MLB-169697...  \n",
       "...                                                 ...  \n",
       "1898  https://produto.mercadolivre.com.br/MLB-271550...  \n",
       "1914  https://produto.mercadolivre.com.br/MLB-262447...  \n",
       "1924  https://produto.mercadolivre.com.br/MLB-196887...  \n",
       "1957  https://produto.mercadolivre.com.br/MLB-217551...  \n",
       "1960  https://produto.mercadolivre.com.br/MLB-266054...  \n",
       "\n",
       "[144 rows x 4 columns]"
      ]
     },
     "execution_count": 23,
     "metadata": {},
     "output_type": "execute_result"
    }
   ],
   "source": [
    "Iphone_12 = Iphones[ Iphones['Aparelhos'].str.contains(\" 12 \", case=False) ]\n",
    "Iphone_12"
   ]
  },
  {
   "cell_type": "markdown",
   "id": "e388b752",
   "metadata": {},
   "source": [
    "#### iPhone 12 512 GB"
   ]
  },
  {
   "cell_type": "code",
   "execution_count": 175,
   "id": "60526045",
   "metadata": {},
   "outputs": [
    {
     "data": {
      "text/html": [
       "<div>\n",
       "<style scoped>\n",
       "    .dataframe tbody tr th:only-of-type {\n",
       "        vertical-align: middle;\n",
       "    }\n",
       "\n",
       "    .dataframe tbody tr th {\n",
       "        vertical-align: top;\n",
       "    }\n",
       "\n",
       "    .dataframe thead th {\n",
       "        text-align: right;\n",
       "    }\n",
       "</style>\n",
       "<table border=\"1\" class=\"dataframe\">\n",
       "  <thead>\n",
       "    <tr style=\"text-align: right;\">\n",
       "      <th></th>\n",
       "      <th>Aparelhos</th>\n",
       "      <th>Precos R$</th>\n",
       "      <th>Estado</th>\n",
       "      <th>Links</th>\n",
       "    </tr>\n",
       "  </thead>\n",
       "  <tbody>\n",
       "    <tr>\n",
       "      <th>69</th>\n",
       "      <td>Apple iPhone 12 Pro Max (512 GB) - Azul-pacífico</td>\n",
       "      <td>8381</td>\n",
       "      <td>Novo</td>\n",
       "      <td>https://www.mercadolivre.com.br/apple-iphone-1...</td>\n",
       "    </tr>\n",
       "    <tr>\n",
       "      <th>632</th>\n",
       "      <td>Apple iPhone 12 Pro (512 Gb) Grafite</td>\n",
       "      <td>8299</td>\n",
       "      <td>Novo</td>\n",
       "      <td>https://produto.mercadolivre.com.br/MLB-189686...</td>\n",
       "    </tr>\n",
       "    <tr>\n",
       "      <th>1038</th>\n",
       "      <td>Apple iPhone 12 Pro (512 Gb) - Azul-pacífico</td>\n",
       "      <td>7676</td>\n",
       "      <td>Novo</td>\n",
       "      <td>https://produto.mercadolivre.com.br/MLB-217346...</td>\n",
       "    </tr>\n",
       "  </tbody>\n",
       "</table>\n",
       "</div>"
      ],
      "text/plain": [
       "                                             Aparelhos  Precos R$ Estado  \\\n",
       "69    Apple iPhone 12 Pro Max (512 GB) - Azul-pacífico       8381   Novo   \n",
       "632               Apple iPhone 12 Pro (512 Gb) Grafite       8299   Novo   \n",
       "1038      Apple iPhone 12 Pro (512 Gb) - Azul-pacífico       7676   Novo   \n",
       "\n",
       "                                                  Links  \n",
       "69    https://www.mercadolivre.com.br/apple-iphone-1...  \n",
       "632   https://produto.mercadolivre.com.br/MLB-189686...  \n",
       "1038  https://produto.mercadolivre.com.br/MLB-217346...  "
      ]
     },
     "execution_count": 175,
     "metadata": {},
     "output_type": "execute_result"
    }
   ],
   "source": [
    "Iphone_12_512GB = Iphone_12[ Iphone_12['Aparelhos'].str.contains(\"512gb\", case=False) | \n",
    "                          Iphone_12['Aparelhos'].str.contains(\"512 gb\", case=False) ]\n",
    "\n",
    "Iphone_12_512GB['Precos R$'].astype(float)\n",
    "Iphone_12_512GB.head()"
   ]
  },
  {
   "cell_type": "code",
   "execution_count": 176,
   "id": "06fefa18",
   "metadata": {},
   "outputs": [
    {
     "data": {
      "image/png": "[encoded data removed]",
      "text/plain": [
       "<Figure size 720x432 with 1 Axes>"
      ]
     },
     "metadata": {
      "needs_background": "light"
     },
     "output_type": "display_data"
    }
   ],
   "source": [
    "plt.figure(figsize = (10,6))\n",
    "sns.boxplot(x='Precos R$', y='Estado', data=Iphone_12_512GB, palette=\"Set2\")\n",
    "plt.xlabel('Preços (R$)', fontsize=13);\n",
    "plt.ylabel('', fontsize=16);\n",
    "plt.title('iPhone 12 512GB', fontsize=14)\n",
    "plt.show()"
   ]
  },
  {
   "cell_type": "markdown",
   "id": "dc1dd64b",
   "metadata": {},
   "source": [
    "#### iPhone 12 256 GB"
   ]
  },
  {
   "cell_type": "code",
   "execution_count": 177,
   "id": "6fb8650f",
   "metadata": {},
   "outputs": [
    {
     "data": {
      "text/html": [
       "<div>\n",
       "<style scoped>\n",
       "    .dataframe tbody tr th:only-of-type {\n",
       "        vertical-align: middle;\n",
       "    }\n",
       "\n",
       "    .dataframe tbody tr th {\n",
       "        vertical-align: top;\n",
       "    }\n",
       "\n",
       "    .dataframe thead th {\n",
       "        text-align: right;\n",
       "    }\n",
       "</style>\n",
       "<table border=\"1\" class=\"dataframe\">\n",
       "  <thead>\n",
       "    <tr style=\"text-align: right;\">\n",
       "      <th></th>\n",
       "      <th>Aparelhos</th>\n",
       "      <th>Precos R$</th>\n",
       "      <th>Estado</th>\n",
       "      <th>Links</th>\n",
       "    </tr>\n",
       "  </thead>\n",
       "  <tbody>\n",
       "    <tr>\n",
       "      <th>65</th>\n",
       "      <td>Apple iPhone 12 Pro Max (256 GB) - Dourado</td>\n",
       "      <td>6900</td>\n",
       "      <td>Novo</td>\n",
       "      <td>https://www.mercadolivre.com.br/apple-iphone-1...</td>\n",
       "    </tr>\n",
       "    <tr>\n",
       "      <th>103</th>\n",
       "      <td>iPhone 12 Pro 256 Gb Grafite - 12x - Frete Grátis</td>\n",
       "      <td>5839</td>\n",
       "      <td>Novo</td>\n",
       "      <td>https://produto.mercadolivre.com.br/MLB-273116...</td>\n",
       "    </tr>\n",
       "    <tr>\n",
       "      <th>113</th>\n",
       "      <td>Apple iPhone 12 Pro Max (256 Gb) - Azul-pacífico</td>\n",
       "      <td>6999</td>\n",
       "      <td>Novo</td>\n",
       "      <td>https://produto.mercadolivre.com.br/MLB-205463...</td>\n",
       "    </tr>\n",
       "    <tr>\n",
       "      <th>181</th>\n",
       "      <td>iPhone 12 256gb Azul Apple</td>\n",
       "      <td>6199</td>\n",
       "      <td>Novo</td>\n",
       "      <td>https://produto.mercadolivre.com.br/MLB-195240...</td>\n",
       "    </tr>\n",
       "    <tr>\n",
       "      <th>209</th>\n",
       "      <td>iPhone 12 256gb Roxo Apple</td>\n",
       "      <td>5946</td>\n",
       "      <td>Novo</td>\n",
       "      <td>https://produto.mercadolivre.com.br/MLB-195240...</td>\n",
       "    </tr>\n",
       "  </tbody>\n",
       "</table>\n",
       "</div>"
      ],
      "text/plain": [
       "                                             Aparelhos  Precos R$ Estado  \\\n",
       "65          Apple iPhone 12 Pro Max (256 GB) - Dourado       6900   Novo   \n",
       "103  iPhone 12 Pro 256 Gb Grafite - 12x - Frete Grátis       5839   Novo   \n",
       "113   Apple iPhone 12 Pro Max (256 Gb) - Azul-pacífico       6999   Novo   \n",
       "181                         iPhone 12 256gb Azul Apple       6199   Novo   \n",
       "209                         iPhone 12 256gb Roxo Apple       5946   Novo   \n",
       "\n",
       "                                                 Links  \n",
       "65   https://www.mercadolivre.com.br/apple-iphone-1...  \n",
       "103  https://produto.mercadolivre.com.br/MLB-273116...  \n",
       "113  https://produto.mercadolivre.com.br/MLB-205463...  \n",
       "181  https://produto.mercadolivre.com.br/MLB-195240...  \n",
       "209  https://produto.mercadolivre.com.br/MLB-195240...  "
      ]
     },
     "execution_count": 177,
     "metadata": {},
     "output_type": "execute_result"
    }
   ],
   "source": [
    "Iphone_12_256GB = Iphone_12[ Iphone_12['Aparelhos'].str.contains(\"256gb\", case=False) | \n",
    "                          Iphone_12['Aparelhos'].str.contains(\"256 gb\", case=False) ]\n",
    "\n",
    "Iphone_12_256GB['Precos R$'].astype(float)\n",
    "Iphone_12_256GB.head()"
   ]
  },
  {
   "cell_type": "code",
   "execution_count": 178,
   "id": "a009231d",
   "metadata": {},
   "outputs": [
    {
     "data": {
      "image/png": "[encoded data removed]",
      "text/plain": [
       "<Figure size 720x432 with 1 Axes>"
      ]
     },
     "metadata": {
      "needs_background": "light"
     },
     "output_type": "display_data"
    }
   ],
   "source": [
    "plt.figure(figsize = (10,6))\n",
    "sns.boxplot(x='Precos R$', y='Estado', data=Iphone_12_256GB, palette=\"Set2\")\n",
    "plt.xlabel('Preços (R$)', fontsize=13);\n",
    "plt.ylabel('', fontsize=16);\n",
    "plt.title('iPhone 12 256GB', fontsize=14)\n",
    "plt.show()"
   ]
  },
  {
   "cell_type": "markdown",
   "id": "84d8fe67",
   "metadata": {},
   "source": [
    "#### iPhone 12 128 GB"
   ]
  },
  {
   "cell_type": "code",
   "execution_count": 179,
   "id": "f6a83622",
   "metadata": {},
   "outputs": [
    {
     "data": {
      "text/html": [
       "<div>\n",
       "<style scoped>\n",
       "    .dataframe tbody tr th:only-of-type {\n",
       "        vertical-align: middle;\n",
       "    }\n",
       "\n",
       "    .dataframe tbody tr th {\n",
       "        vertical-align: top;\n",
       "    }\n",
       "\n",
       "    .dataframe thead th {\n",
       "        text-align: right;\n",
       "    }\n",
       "</style>\n",
       "<table border=\"1\" class=\"dataframe\">\n",
       "  <thead>\n",
       "    <tr style=\"text-align: right;\">\n",
       "      <th></th>\n",
       "      <th>Aparelhos</th>\n",
       "      <th>Precos R$</th>\n",
       "      <th>Estado</th>\n",
       "      <th>Links</th>\n",
       "    </tr>\n",
       "  </thead>\n",
       "  <tbody>\n",
       "    <tr>\n",
       "      <th>10</th>\n",
       "      <td>Apple iPhone 12 (128 GB) - Preto</td>\n",
       "      <td>4859</td>\n",
       "      <td>Novo</td>\n",
       "      <td>https://www.mercadolivre.com.br/apple-iphone-1...</td>\n",
       "    </tr>\n",
       "    <tr>\n",
       "      <th>84</th>\n",
       "      <td>iPhone 12 128gb Preto Apple</td>\n",
       "      <td>5103</td>\n",
       "      <td>Novo</td>\n",
       "      <td>https://produto.mercadolivre.com.br/MLB-195239...</td>\n",
       "    </tr>\n",
       "    <tr>\n",
       "      <th>100</th>\n",
       "      <td>Apple iPhone 12 Pro Max (128 GB) - Prateado</td>\n",
       "      <td>6500</td>\n",
       "      <td>Novo</td>\n",
       "      <td>https://www.mercadolivre.com.br/apple-iphone-1...</td>\n",
       "    </tr>\n",
       "    <tr>\n",
       "      <th>141</th>\n",
       "      <td>iPhone Apple 12 128gb 5g 6,1 Pol Câmera Dupla ...</td>\n",
       "      <td>5394</td>\n",
       "      <td>Novo</td>\n",
       "      <td>https://produto.mercadolivre.com.br/MLB-267478...</td>\n",
       "    </tr>\n",
       "    <tr>\n",
       "      <th>160</th>\n",
       "      <td>Apple iPhone 12 Pro (128 Gb) Dourado</td>\n",
       "      <td>7499</td>\n",
       "      <td>Novo</td>\n",
       "      <td>https://produto.mercadolivre.com.br/MLB-189686...</td>\n",
       "    </tr>\n",
       "  </tbody>\n",
       "</table>\n",
       "</div>"
      ],
      "text/plain": [
       "                                             Aparelhos  Precos R$ Estado  \\\n",
       "10                    Apple iPhone 12 (128 GB) - Preto       4859   Novo   \n",
       "84                         iPhone 12 128gb Preto Apple       5103   Novo   \n",
       "100        Apple iPhone 12 Pro Max (128 GB) - Prateado       6500   Novo   \n",
       "141  iPhone Apple 12 128gb 5g 6,1 Pol Câmera Dupla ...       5394   Novo   \n",
       "160              Apple iPhone 12 Pro (128 Gb) Dourado        7499   Novo   \n",
       "\n",
       "                                                 Links  \n",
       "10   https://www.mercadolivre.com.br/apple-iphone-1...  \n",
       "84   https://produto.mercadolivre.com.br/MLB-195239...  \n",
       "100  https://www.mercadolivre.com.br/apple-iphone-1...  \n",
       "141  https://produto.mercadolivre.com.br/MLB-267478...  \n",
       "160  https://produto.mercadolivre.com.br/MLB-189686...  "
      ]
     },
     "execution_count": 179,
     "metadata": {},
     "output_type": "execute_result"
    }
   ],
   "source": [
    "Iphone_12_128GB = Iphone_12[ Iphone_12['Aparelhos'].str.contains(\"128gb\", case=False) | \n",
    "                          Iphone_12['Aparelhos'].str.contains(\"128 gb\", case=False) ]\n",
    "\n",
    "Iphone_12_128GB['Precos R$'].astype(float)\n",
    "Iphone_12_128GB.head()"
   ]
  },
  {
   "cell_type": "code",
   "execution_count": 180,
   "id": "4eb6093c",
   "metadata": {},
   "outputs": [
    {
     "data": {
      "image/png": "[encoded data removed]",
      "text/plain": [
       "<Figure size 720x432 with 1 Axes>"
      ]
     },
     "metadata": {
      "needs_background": "light"
     },
     "output_type": "display_data"
    }
   ],
   "source": [
    "plt.figure(figsize = (10,6))\n",
    "sns.boxplot(x='Precos R$', y='Estado', data=Iphone_12_128GB, palette=\"Set2\")\n",
    "plt.xlabel('Preços (R$)', fontsize=13);\n",
    "plt.ylabel('', fontsize=16);\n",
    "plt.title('iPhone 12 128GB', fontsize=14)\n",
    "plt.show()"
   ]
  },
  {
   "cell_type": "markdown",
   "id": "1891f33c",
   "metadata": {},
   "source": [
    "#### iPhone 12 64 GB"
   ]
  },
  {
   "cell_type": "code",
   "execution_count": 181,
   "id": "3b6a9106",
   "metadata": {},
   "outputs": [
    {
     "data": {
      "text/html": [
       "<div>\n",
       "<style scoped>\n",
       "    .dataframe tbody tr th:only-of-type {\n",
       "        vertical-align: middle;\n",
       "    }\n",
       "\n",
       "    .dataframe tbody tr th {\n",
       "        vertical-align: top;\n",
       "    }\n",
       "\n",
       "    .dataframe thead th {\n",
       "        text-align: right;\n",
       "    }\n",
       "</style>\n",
       "<table border=\"1\" class=\"dataframe\">\n",
       "  <thead>\n",
       "    <tr style=\"text-align: right;\">\n",
       "      <th></th>\n",
       "      <th>Aparelhos</th>\n",
       "      <th>Precos R$</th>\n",
       "      <th>Estado</th>\n",
       "      <th>Links</th>\n",
       "    </tr>\n",
       "  </thead>\n",
       "  <tbody>\n",
       "    <tr>\n",
       "      <th>0</th>\n",
       "      <td>Apple iPhone 12 (64 GB) - Verde</td>\n",
       "      <td>4199</td>\n",
       "      <td>Novo</td>\n",
       "      <td>https://www.mercadolivre.com.br/apple-iphone-1...</td>\n",
       "    </tr>\n",
       "    <tr>\n",
       "      <th>53</th>\n",
       "      <td>iPhone 12 64gb Preto Apple</td>\n",
       "      <td>4598</td>\n",
       "      <td>Novo</td>\n",
       "      <td>https://produto.mercadolivre.com.br/MLB-195239...</td>\n",
       "    </tr>\n",
       "    <tr>\n",
       "      <th>67</th>\n",
       "      <td>Apple iPhone 12 Mini (64 Gb) Preto</td>\n",
       "      <td>4999</td>\n",
       "      <td>Novo</td>\n",
       "      <td>https://produto.mercadolivre.com.br/MLB-189217...</td>\n",
       "    </tr>\n",
       "    <tr>\n",
       "      <th>73</th>\n",
       "      <td>iPhone 12 64gb Azul Apple</td>\n",
       "      <td>4540</td>\n",
       "      <td>Novo</td>\n",
       "      <td>https://produto.mercadolivre.com.br/MLB-195240...</td>\n",
       "    </tr>\n",
       "    <tr>\n",
       "      <th>94</th>\n",
       "      <td>Apple iPhone 12 (64 Gb) Roxo</td>\n",
       "      <td>4417</td>\n",
       "      <td>Novo</td>\n",
       "      <td>https://produto.mercadolivre.com.br/MLB-189211...</td>\n",
       "    </tr>\n",
       "  </tbody>\n",
       "</table>\n",
       "</div>"
      ],
      "text/plain": [
       "                             Aparelhos  Precos R$ Estado  \\\n",
       "0      Apple iPhone 12 (64 GB) - Verde       4199   Novo   \n",
       "53          iPhone 12 64gb Preto Apple       4598   Novo   \n",
       "67  Apple iPhone 12 Mini (64 Gb) Preto       4999   Novo   \n",
       "73           iPhone 12 64gb Azul Apple       4540   Novo   \n",
       "94        Apple iPhone 12 (64 Gb) Roxo       4417   Novo   \n",
       "\n",
       "                                                Links  \n",
       "0   https://www.mercadolivre.com.br/apple-iphone-1...  \n",
       "53  https://produto.mercadolivre.com.br/MLB-195239...  \n",
       "67  https://produto.mercadolivre.com.br/MLB-189217...  \n",
       "73  https://produto.mercadolivre.com.br/MLB-195240...  \n",
       "94  https://produto.mercadolivre.com.br/MLB-189211...  "
      ]
     },
     "execution_count": 181,
     "metadata": {},
     "output_type": "execute_result"
    }
   ],
   "source": [
    "Iphone_12_64GB = Iphone_12[ Iphone_12['Aparelhos'].str.contains(\"64gb\", case=False) | \n",
    "                          Iphone_12['Aparelhos'].str.contains(\"64 gb\", case=False) ]\n",
    "\n",
    "Iphone_12_64GB['Precos R$'].astype(float)\n",
    "Iphone_12_64GB.head()"
   ]
  },
  {
   "cell_type": "code",
   "execution_count": 182,
   "id": "a59acf03",
   "metadata": {},
   "outputs": [
    {
     "data": {
      "image/png": "[encoded data removed]",
      "text/plain": [
       "<Figure size 720x432 with 1 Axes>"
      ]
     },
     "metadata": {
      "needs_background": "light"
     },
     "output_type": "display_data"
    }
   ],
   "source": [
    "plt.figure(figsize = (10,6))\n",
    "sns.boxplot(x='Precos R$', y='Estado', data=Iphone_12_64GB, palette=\"Set2\")\n",
    "plt.xlabel('Preços (R$)', fontsize=13);\n",
    "plt.ylabel('', fontsize=16);\n",
    "plt.title('iPhone 12 64GB', fontsize=14)\n",
    "plt.show()"
   ]
  },
  {
   "cell_type": "markdown",
   "id": "bf48c6fa",
   "metadata": {},
   "source": [
    "## iPhone 11"
   ]
  },
  {
   "cell_type": "code",
   "execution_count": 30,
   "id": "73728fcc",
   "metadata": {},
   "outputs": [
    {
     "data": {
      "text/html": [
       "<div>\n",
       "<style scoped>\n",
       "    .dataframe tbody tr th:only-of-type {\n",
       "        vertical-align: middle;\n",
       "    }\n",
       "\n",
       "    .dataframe tbody tr th {\n",
       "        vertical-align: top;\n",
       "    }\n",
       "\n",
       "    .dataframe thead th {\n",
       "        text-align: right;\n",
       "    }\n",
       "</style>\n",
       "<table border=\"1\" class=\"dataframe\">\n",
       "  <thead>\n",
       "    <tr style=\"text-align: right;\">\n",
       "      <th></th>\n",
       "      <th>Aparelhos</th>\n",
       "      <th>Precos R$</th>\n",
       "      <th>Estado</th>\n",
       "      <th>Links</th>\n",
       "    </tr>\n",
       "  </thead>\n",
       "  <tbody>\n",
       "    <tr>\n",
       "      <th>3</th>\n",
       "      <td>Apple iPhone 11 (128 GB) - Preto</td>\n",
       "      <td>3699</td>\n",
       "      <td>Novo</td>\n",
       "      <td>https://www.mercadolivre.com.br/apple-iphone-1...</td>\n",
       "    </tr>\n",
       "    <tr>\n",
       "      <th>4</th>\n",
       "      <td>Apple iPhone 11 (64 GB) - Preto</td>\n",
       "      <td>3199</td>\n",
       "      <td>Novo</td>\n",
       "      <td>https://www.mercadolivre.com.br/apple-iphone-1...</td>\n",
       "    </tr>\n",
       "    <tr>\n",
       "      <th>14</th>\n",
       "      <td>Apple iPhone 11 (256 GB) - Roxo</td>\n",
       "      <td>5199</td>\n",
       "      <td>Novo</td>\n",
       "      <td>https://www.mercadolivre.com.br/apple-iphone-1...</td>\n",
       "    </tr>\n",
       "    <tr>\n",
       "      <th>31</th>\n",
       "      <td>iPhone 11 64gb Preto Apple</td>\n",
       "      <td>3371</td>\n",
       "      <td>Novo</td>\n",
       "      <td>https://produto.mercadolivre.com.br/MLB-199102...</td>\n",
       "    </tr>\n",
       "    <tr>\n",
       "      <th>50</th>\n",
       "      <td>iPhone 11 64gb Preto Apple</td>\n",
       "      <td>3371</td>\n",
       "      <td>Novo</td>\n",
       "      <td>https://produto.mercadolivre.com.br/MLB-199102...</td>\n",
       "    </tr>\n",
       "    <tr>\n",
       "      <th>...</th>\n",
       "      <td>...</td>\n",
       "      <td>...</td>\n",
       "      <td>...</td>\n",
       "      <td>...</td>\n",
       "    </tr>\n",
       "    <tr>\n",
       "      <th>1977</th>\n",
       "      <td>iPhone 11 128gb Preto Muito Bom - Trocafone - ...</td>\n",
       "      <td>3369</td>\n",
       "      <td>Usado</td>\n",
       "      <td>https://produto.mercadolivre.com.br/MLB-267199...</td>\n",
       "    </tr>\n",
       "    <tr>\n",
       "      <th>1988</th>\n",
       "      <td>iPhone 11 64 Gb Branco Cinza Seminovo</td>\n",
       "      <td>2800</td>\n",
       "      <td>Usado</td>\n",
       "      <td>https://produto.mercadolivre.com.br/MLB-272494...</td>\n",
       "    </tr>\n",
       "    <tr>\n",
       "      <th>1991</th>\n",
       "      <td>iPhone 11 64 Roxo85% (327)</td>\n",
       "      <td>2700</td>\n",
       "      <td>Usado</td>\n",
       "      <td>https://produto.mercadolivre.com.br/MLB-267666...</td>\n",
       "    </tr>\n",
       "    <tr>\n",
       "      <th>1992</th>\n",
       "      <td>iPhone 11 128gb Preto Bom - Trocafone - Celula...</td>\n",
       "      <td>3099</td>\n",
       "      <td>Usado</td>\n",
       "      <td>https://produto.mercadolivre.com.br/MLB-271540...</td>\n",
       "    </tr>\n",
       "    <tr>\n",
       "      <th>1996</th>\n",
       "      <td>iPhone 11 64gb Preto Novo</td>\n",
       "      <td>3739</td>\n",
       "      <td>Novo</td>\n",
       "      <td>https://produto.mercadolivre.com.br/MLB-262198...</td>\n",
       "    </tr>\n",
       "  </tbody>\n",
       "</table>\n",
       "<p>251 rows × 4 columns</p>\n",
       "</div>"
      ],
      "text/plain": [
       "                                              Aparelhos  Precos R$ Estado  \\\n",
       "3                      Apple iPhone 11 (128 GB) - Preto       3699   Novo   \n",
       "4                       Apple iPhone 11 (64 GB) - Preto       3199   Novo   \n",
       "14                      Apple iPhone 11 (256 GB) - Roxo       5199   Novo   \n",
       "31                           iPhone 11 64gb Preto Apple       3371   Novo   \n",
       "50                           iPhone 11 64gb Preto Apple       3371   Novo   \n",
       "...                                                 ...        ...    ...   \n",
       "1977  iPhone 11 128gb Preto Muito Bom - Trocafone - ...       3369  Usado   \n",
       "1988              iPhone 11 64 Gb Branco Cinza Seminovo       2800  Usado   \n",
       "1991                         iPhone 11 64 Roxo85% (327)       2700  Usado   \n",
       "1992  iPhone 11 128gb Preto Bom - Trocafone - Celula...       3099  Usado   \n",
       "1996                         iPhone 11 64gb Preto Novo        3739   Novo   \n",
       "\n",
       "                                                  Links  \n",
       "3     https://www.mercadolivre.com.br/apple-iphone-1...  \n",
       "4     https://www.mercadolivre.com.br/apple-iphone-1...  \n",
       "14    https://www.mercadolivre.com.br/apple-iphone-1...  \n",
       "31    https://produto.mercadolivre.com.br/MLB-199102...  \n",
       "50    https://produto.mercadolivre.com.br/MLB-199102...  \n",
       "...                                                 ...  \n",
       "1977  https://produto.mercadolivre.com.br/MLB-267199...  \n",
       "1988  https://produto.mercadolivre.com.br/MLB-272494...  \n",
       "1991  https://produto.mercadolivre.com.br/MLB-267666...  \n",
       "1992  https://produto.mercadolivre.com.br/MLB-271540...  \n",
       "1996  https://produto.mercadolivre.com.br/MLB-262198...  \n",
       "\n",
       "[251 rows x 4 columns]"
      ]
     },
     "execution_count": 30,
     "metadata": {},
     "output_type": "execute_result"
    }
   ],
   "source": [
    "Iphone_11 = Iphones[ Iphones['Aparelhos'].str.contains(\" 11 \", case=False) ]\n",
    "Iphone_11"
   ]
  },
  {
   "cell_type": "markdown",
   "id": "8b126118",
   "metadata": {},
   "source": [
    "#### iPhone 11 512 GB"
   ]
  },
  {
   "cell_type": "code",
   "execution_count": 124,
   "id": "fc395f2d",
   "metadata": {},
   "outputs": [
    {
     "data": {
      "text/html": [
       "<div>\n",
       "<style scoped>\n",
       "    .dataframe tbody tr th:only-of-type {\n",
       "        vertical-align: middle;\n",
       "    }\n",
       "\n",
       "    .dataframe tbody tr th {\n",
       "        vertical-align: top;\n",
       "    }\n",
       "\n",
       "    .dataframe thead th {\n",
       "        text-align: right;\n",
       "    }\n",
       "</style>\n",
       "<table border=\"1\" class=\"dataframe\">\n",
       "  <thead>\n",
       "    <tr style=\"text-align: right;\">\n",
       "      <th></th>\n",
       "      <th>Aparelhos</th>\n",
       "      <th>Precos R$</th>\n",
       "      <th>Estado</th>\n",
       "      <th>Links</th>\n",
       "    </tr>\n",
       "  </thead>\n",
       "  <tbody>\n",
       "    <tr>\n",
       "      <th>1522</th>\n",
       "      <td>iPhone 11 Pro Max 512 Gb Verde-meia-noite</td>\n",
       "      <td>5491</td>\n",
       "      <td>Usado</td>\n",
       "      <td>https://produto.mercadolivre.com.br/MLB-273686...</td>\n",
       "    </tr>\n",
       "    <tr>\n",
       "      <th>1962</th>\n",
       "      <td>iPhone 11 Pro Max 512gb Verde Meia-noite Excel...</td>\n",
       "      <td>5679</td>\n",
       "      <td>Usado</td>\n",
       "      <td>https://produto.mercadolivre.com.br/MLB-189405...</td>\n",
       "    </tr>\n",
       "  </tbody>\n",
       "</table>\n",
       "</div>"
      ],
      "text/plain": [
       "                                              Aparelhos  Precos R$ Estado  \\\n",
       "1522          iPhone 11 Pro Max 512 Gb Verde-meia-noite       5491  Usado   \n",
       "1962  iPhone 11 Pro Max 512gb Verde Meia-noite Excel...       5679  Usado   \n",
       "\n",
       "                                                  Links  \n",
       "1522  https://produto.mercadolivre.com.br/MLB-273686...  \n",
       "1962  https://produto.mercadolivre.com.br/MLB-189405...  "
      ]
     },
     "execution_count": 124,
     "metadata": {},
     "output_type": "execute_result"
    }
   ],
   "source": [
    "Iphone_11_512GB = Iphone_11[ Iphone_11['Aparelhos'].str.contains(\"512gb\", case=False) | \n",
    "                          Iphone_11['Aparelhos'].str.contains(\"512 gb\", case=False) ]\n",
    "Iphone_11_512GB['Precos R$'].astype(float)\n",
    "Iphone_11_512GB"
   ]
  },
  {
   "cell_type": "code",
   "execution_count": 167,
   "id": "58804dd1",
   "metadata": {},
   "outputs": [
    {
     "data": {
      "image/png": "[encoded data removed]",
      "text/plain": [
       "<Figure size 720x432 with 1 Axes>"
      ]
     },
     "metadata": {
      "needs_background": "light"
     },
     "output_type": "display_data"
    }
   ],
   "source": [
    "plt.figure(figsize = (10,6))\n",
    "sns.boxplot(x='Precos R$', y='Estado', data=Iphone_11_512GB, palette=\"Set2\")\n",
    "plt.xlabel('Preços (R$)', fontsize=13);\n",
    "plt.ylabel('', fontsize=16);\n",
    "plt.title('iPhone 11 512GB', fontsize=14)\n",
    "plt.show()"
   ]
  },
  {
   "cell_type": "markdown",
   "id": "74cab654",
   "metadata": {},
   "source": [
    "#### iPhone 11 256 GB"
   ]
  },
  {
   "cell_type": "code",
   "execution_count": 154,
   "id": "537c0973",
   "metadata": {},
   "outputs": [
    {
     "data": {
      "text/html": [
       "<div>\n",
       "<style scoped>\n",
       "    .dataframe tbody tr th:only-of-type {\n",
       "        vertical-align: middle;\n",
       "    }\n",
       "\n",
       "    .dataframe tbody tr th {\n",
       "        vertical-align: top;\n",
       "    }\n",
       "\n",
       "    .dataframe thead th {\n",
       "        text-align: right;\n",
       "    }\n",
       "</style>\n",
       "<table border=\"1\" class=\"dataframe\">\n",
       "  <thead>\n",
       "    <tr style=\"text-align: right;\">\n",
       "      <th></th>\n",
       "      <th>Aparelhos</th>\n",
       "      <th>Precos R$</th>\n",
       "      <th>Estado</th>\n",
       "      <th>Links</th>\n",
       "    </tr>\n",
       "  </thead>\n",
       "  <tbody>\n",
       "    <tr>\n",
       "      <th>14</th>\n",
       "      <td>Apple iPhone 11 (256 GB) - Roxo</td>\n",
       "      <td>5199</td>\n",
       "      <td>Novo</td>\n",
       "      <td>https://www.mercadolivre.com.br/apple-iphone-1...</td>\n",
       "    </tr>\n",
       "    <tr>\n",
       "      <th>63</th>\n",
       "      <td>iPhone 11 Pro Max 256 GB cinza-espacial</td>\n",
       "      <td>5500</td>\n",
       "      <td>Novo</td>\n",
       "      <td>https://www.mercadolivre.com.br/iphone-11-pro-...</td>\n",
       "    </tr>\n",
       "    <tr>\n",
       "      <th>169</th>\n",
       "      <td>iPhone 11 256gb Amarelo Apple</td>\n",
       "      <td>5499</td>\n",
       "      <td>Novo</td>\n",
       "      <td>https://produto.mercadolivre.com.br/MLB-199103...</td>\n",
       "    </tr>\n",
       "    <tr>\n",
       "      <th>183</th>\n",
       "      <td>Apple iPhone 11 256 Gb Branco</td>\n",
       "      <td>5199</td>\n",
       "      <td>Novo</td>\n",
       "      <td>https://produto.mercadolivre.com.br/MLB-199103...</td>\n",
       "    </tr>\n",
       "    <tr>\n",
       "      <th>296</th>\n",
       "      <td>Apple iPhone 11 256 Gb Roxo</td>\n",
       "      <td>5199</td>\n",
       "      <td>Novo</td>\n",
       "      <td>https://produto.mercadolivre.com.br/MLB-189211...</td>\n",
       "    </tr>\n",
       "  </tbody>\n",
       "</table>\n",
       "</div>"
      ],
      "text/plain": [
       "                                   Aparelhos  Precos R$ Estado  \\\n",
       "14           Apple iPhone 11 (256 GB) - Roxo       5199   Novo   \n",
       "63   iPhone 11 Pro Max 256 GB cinza-espacial       5500   Novo   \n",
       "169            iPhone 11 256gb Amarelo Apple       5499   Novo   \n",
       "183            Apple iPhone 11 256 Gb Branco       5199   Novo   \n",
       "296              Apple iPhone 11 256 Gb Roxo       5199   Novo   \n",
       "\n",
       "                                                 Links  \n",
       "14   https://www.mercadolivre.com.br/apple-iphone-1...  \n",
       "63   https://www.mercadolivre.com.br/iphone-11-pro-...  \n",
       "169  https://produto.mercadolivre.com.br/MLB-199103...  \n",
       "183  https://produto.mercadolivre.com.br/MLB-199103...  \n",
       "296  https://produto.mercadolivre.com.br/MLB-189211...  "
      ]
     },
     "execution_count": 154,
     "metadata": {},
     "output_type": "execute_result"
    }
   ],
   "source": [
    "Iphone_11_256GB = Iphone_11[ Iphone_11['Aparelhos'].str.contains(\"256gb\", case=False) | \n",
    "                          Iphone_11['Aparelhos'].str.contains(\"256 gb\", case=False) ]\n",
    "\n",
    "Iphone_11_256GB['Precos R$'].astype(float)\n",
    "Iphone_11_256GB.head()"
   ]
  },
  {
   "cell_type": "code",
   "execution_count": 164,
   "id": "df754402",
   "metadata": {},
   "outputs": [
    {
     "data": {
      "image/png": "[encoded data removed]",
      "text/plain": [
       "<Figure size 720x432 with 1 Axes>"
      ]
     },
     "metadata": {
      "needs_background": "light"
     },
     "output_type": "display_data"
    }
   ],
   "source": [
    "plt.figure(figsize = (10,6))\n",
    "sns.boxplot(x='Precos R$', y='Estado', data=Iphone_11_256GB, palette=\"Set2\")\n",
    "plt.xlabel('Preços (R$)', fontsize=13);\n",
    "plt.ylabel('', fontsize=16);\n",
    "plt.title('iPhone 11 256GB', fontsize=14)\n",
    "plt.show()"
   ]
  },
  {
   "cell_type": "markdown",
   "id": "c06c9bd3",
   "metadata": {},
   "source": [
    "#### iPhone 11 128 GB"
   ]
  },
  {
   "cell_type": "code",
   "execution_count": 156,
   "id": "69de79ef",
   "metadata": {},
   "outputs": [
    {
     "data": {
      "text/html": [
       "<div>\n",
       "<style scoped>\n",
       "    .dataframe tbody tr th:only-of-type {\n",
       "        vertical-align: middle;\n",
       "    }\n",
       "\n",
       "    .dataframe tbody tr th {\n",
       "        vertical-align: top;\n",
       "    }\n",
       "\n",
       "    .dataframe thead th {\n",
       "        text-align: right;\n",
       "    }\n",
       "</style>\n",
       "<table border=\"1\" class=\"dataframe\">\n",
       "  <thead>\n",
       "    <tr style=\"text-align: right;\">\n",
       "      <th></th>\n",
       "      <th>Aparelhos</th>\n",
       "      <th>Precos R$</th>\n",
       "      <th>Estado</th>\n",
       "      <th>Links</th>\n",
       "    </tr>\n",
       "  </thead>\n",
       "  <tbody>\n",
       "    <tr>\n",
       "      <th>3</th>\n",
       "      <td>Apple iPhone 11 (128 GB) - Preto</td>\n",
       "      <td>3699</td>\n",
       "      <td>Novo</td>\n",
       "      <td>https://www.mercadolivre.com.br/apple-iphone-1...</td>\n",
       "    </tr>\n",
       "    <tr>\n",
       "      <th>71</th>\n",
       "      <td>Apple iPhone 11 (128 Gb) - Preto</td>\n",
       "      <td>4499</td>\n",
       "      <td>Novo</td>\n",
       "      <td>https://produto.mercadolivre.com.br/MLB-199102...</td>\n",
       "    </tr>\n",
       "    <tr>\n",
       "      <th>82</th>\n",
       "      <td>Apple iPhone 11 (128 Gb) - Branco</td>\n",
       "      <td>4499</td>\n",
       "      <td>Novo</td>\n",
       "      <td>https://produto.mercadolivre.com.br/MLB-199103...</td>\n",
       "    </tr>\n",
       "    <tr>\n",
       "      <th>119</th>\n",
       "      <td>Apple iPhone 11 (128 Gb) - Branco</td>\n",
       "      <td>4500</td>\n",
       "      <td>Novo</td>\n",
       "      <td>https://produto.mercadolivre.com.br/MLB-261695...</td>\n",
       "    </tr>\n",
       "    <tr>\n",
       "      <th>136</th>\n",
       "      <td>Apple iPhone 11 (128 Gb) - Preto</td>\n",
       "      <td>3999</td>\n",
       "      <td>Novo</td>\n",
       "      <td>https://produto.mercadolivre.com.br/MLB-268968...</td>\n",
       "    </tr>\n",
       "  </tbody>\n",
       "</table>\n",
       "</div>"
      ],
      "text/plain": [
       "                             Aparelhos  Precos R$ Estado  \\\n",
       "3     Apple iPhone 11 (128 GB) - Preto       3699   Novo   \n",
       "71    Apple iPhone 11 (128 Gb) - Preto       4499   Novo   \n",
       "82   Apple iPhone 11 (128 Gb) - Branco       4499   Novo   \n",
       "119  Apple iPhone 11 (128 Gb) - Branco       4500   Novo   \n",
       "136   Apple iPhone 11 (128 Gb) - Preto       3999   Novo   \n",
       "\n",
       "                                                 Links  \n",
       "3    https://www.mercadolivre.com.br/apple-iphone-1...  \n",
       "71   https://produto.mercadolivre.com.br/MLB-199102...  \n",
       "82   https://produto.mercadolivre.com.br/MLB-199103...  \n",
       "119  https://produto.mercadolivre.com.br/MLB-261695...  \n",
       "136  https://produto.mercadolivre.com.br/MLB-268968...  "
      ]
     },
     "execution_count": 156,
     "metadata": {},
     "output_type": "execute_result"
    }
   ],
   "source": [
    "Iphone_11_128GB = Iphone_11[ Iphone_11['Aparelhos'].str.contains(\"128gb\", case=False) | \n",
    "                          Iphone_11['Aparelhos'].str.contains(\"128 gb\", case=False) ]\n",
    "\n",
    "Iphone_11_128GB['Precos R$'].astype(float)\n",
    "Iphone_11_128GB.head()"
   ]
  },
  {
   "cell_type": "code",
   "execution_count": 166,
   "id": "42cf6c32",
   "metadata": {},
   "outputs": [
    {
     "data": {
      "image/png": "[encoded data removed]",
      "text/plain": [
       "<Figure size 720x432 with 1 Axes>"
      ]
     },
     "metadata": {
      "needs_background": "light"
     },
     "output_type": "display_data"
    }
   ],
   "source": [
    "plt.figure(figsize = (10,6))\n",
    "sns.boxplot(x='Precos R$', y='Estado', data=Iphone_11_128GB, palette=\"Set2\")\n",
    "plt.xlabel('Preços (R$)', fontsize=13);\n",
    "plt.ylabel('', fontsize=16);\n",
    "plt.title('iPhone 11 128GB', fontsize=14)\n",
    "plt.show()"
   ]
  },
  {
   "cell_type": "markdown",
   "id": "f380f057",
   "metadata": {},
   "source": [
    "#### iPhone 11 64 GB"
   ]
  },
  {
   "cell_type": "code",
   "execution_count": 158,
   "id": "833657ff",
   "metadata": {},
   "outputs": [
    {
     "data": {
      "text/html": [
       "<div>\n",
       "<style scoped>\n",
       "    .dataframe tbody tr th:only-of-type {\n",
       "        vertical-align: middle;\n",
       "    }\n",
       "\n",
       "    .dataframe tbody tr th {\n",
       "        vertical-align: top;\n",
       "    }\n",
       "\n",
       "    .dataframe thead th {\n",
       "        text-align: right;\n",
       "    }\n",
       "</style>\n",
       "<table border=\"1\" class=\"dataframe\">\n",
       "  <thead>\n",
       "    <tr style=\"text-align: right;\">\n",
       "      <th></th>\n",
       "      <th>Aparelhos</th>\n",
       "      <th>Precos R$</th>\n",
       "      <th>Estado</th>\n",
       "      <th>Links</th>\n",
       "    </tr>\n",
       "  </thead>\n",
       "  <tbody>\n",
       "    <tr>\n",
       "      <th>4</th>\n",
       "      <td>Apple iPhone 11 (64 GB) - Preto</td>\n",
       "      <td>3199</td>\n",
       "      <td>Novo</td>\n",
       "      <td>https://www.mercadolivre.com.br/apple-iphone-1...</td>\n",
       "    </tr>\n",
       "    <tr>\n",
       "      <th>31</th>\n",
       "      <td>iPhone 11 64gb Preto Apple</td>\n",
       "      <td>3371</td>\n",
       "      <td>Novo</td>\n",
       "      <td>https://produto.mercadolivre.com.br/MLB-199102...</td>\n",
       "    </tr>\n",
       "    <tr>\n",
       "      <th>50</th>\n",
       "      <td>iPhone 11 64gb Preto Apple</td>\n",
       "      <td>3371</td>\n",
       "      <td>Novo</td>\n",
       "      <td>https://produto.mercadolivre.com.br/MLB-199102...</td>\n",
       "    </tr>\n",
       "    <tr>\n",
       "      <th>66</th>\n",
       "      <td>iPhone 11 Pro Max 64 GB dourado</td>\n",
       "      <td>5000</td>\n",
       "      <td>Novo</td>\n",
       "      <td>https://www.mercadolivre.com.br/iphone-11-pro-...</td>\n",
       "    </tr>\n",
       "    <tr>\n",
       "      <th>92</th>\n",
       "      <td>iPhone 11 64gb Branco Apple</td>\n",
       "      <td>3999</td>\n",
       "      <td>Novo</td>\n",
       "      <td>https://produto.mercadolivre.com.br/MLB-189211...</td>\n",
       "    </tr>\n",
       "  </tbody>\n",
       "</table>\n",
       "</div>"
      ],
      "text/plain": [
       "                          Aparelhos  Precos R$ Estado  \\\n",
       "4   Apple iPhone 11 (64 GB) - Preto       3199   Novo   \n",
       "31       iPhone 11 64gb Preto Apple       3371   Novo   \n",
       "50       iPhone 11 64gb Preto Apple       3371   Novo   \n",
       "66  iPhone 11 Pro Max 64 GB dourado       5000   Novo   \n",
       "92      iPhone 11 64gb Branco Apple       3999   Novo   \n",
       "\n",
       "                                                Links  \n",
       "4   https://www.mercadolivre.com.br/apple-iphone-1...  \n",
       "31  https://produto.mercadolivre.com.br/MLB-199102...  \n",
       "50  https://produto.mercadolivre.com.br/MLB-199102...  \n",
       "66  https://www.mercadolivre.com.br/iphone-11-pro-...  \n",
       "92  https://produto.mercadolivre.com.br/MLB-189211...  "
      ]
     },
     "execution_count": 158,
     "metadata": {},
     "output_type": "execute_result"
    }
   ],
   "source": [
    "Iphone_11_64GB = Iphone_11[ Iphone_11['Aparelhos'].str.contains(\"64gb\", case=False) | \n",
    "                          Iphone_11['Aparelhos'].str.contains(\"64 gb\", case=False) ]\n",
    "\n",
    "Iphone_11_64GB['Precos R$'].astype(float)\n",
    "Iphone_11_64GB.head()"
   ]
  },
  {
   "cell_type": "code",
   "execution_count": 165,
   "id": "47f7d603",
   "metadata": {},
   "outputs": [
    {
     "data": {
      "image/png": "[encoded data removed]",
      "text/plain": [
       "<Figure size 720x432 with 1 Axes>"
      ]
     },
     "metadata": {
      "needs_background": "light"
     },
     "output_type": "display_data"
    }
   ],
   "source": [
    "plt.figure(figsize = (10,6))\n",
    "sns.boxplot(x='Precos R$', y='Estado', data=Iphone_11_64GB, palette=\"Set2\")\n",
    "plt.xlabel('Preços (R$)', fontsize=13);\n",
    "plt.ylabel('', fontsize=16);\n",
    "plt.title('iPhone 11 64GB', fontsize=14)\n",
    "plt.show()"
   ]
  },
  {
   "cell_type": "code",
   "execution_count": null,
   "id": "492b8496",
   "metadata": {},
   "outputs": [],
   "source": []
  },
  {
   "cell_type": "code",
   "execution_count": null,
   "id": "8563de84",
   "metadata": {},
   "outputs": [],
   "source": []
  },
  {
   "cell_type": "code",
   "execution_count": null,
   "id": "3c84906a",
   "metadata": {},
   "outputs": [],
   "source": []
  },
  {
   "cell_type": "code",
   "execution_count": null,
   "id": "646abfc5",
   "metadata": {},
   "outputs": [],
   "source": []
  },
  {
   "cell_type": "code",
   "execution_count": null,
   "id": "7d4d800a",
   "metadata": {},
   "outputs": [],
   "source": []
  },
  {
   "cell_type": "code",
   "execution_count": null,
   "id": "4ba418fb",
   "metadata": {},
   "outputs": [],
   "source": []
  },
  {
   "cell_type": "code",
   "execution_count": null,
   "id": "a5e05a5d",
   "metadata": {},
   "outputs": [],
   "source": []
  },
  {
   "cell_type": "code",
   "execution_count": null,
   "id": "c33c5a16",
   "metadata": {},
   "outputs": [],
   "source": []
  },
  {
   "cell_type": "code",
   "execution_count": 80,
   "id": "09614d21",
   "metadata": {},
   "outputs": [],
   "source": [
    "#data.loc[data['URL'].str.contains(\"youtub\"),'test'] = 'Youtube'\n",
    "#Iphone_11.loc[ Iphone_11['Aparelhos'].str.contains(\"64 gb\", case=False), 'Modelo'   ] = '64 GB'\n",
    "#Iphone_11.loc[ Iphone_11['Aparelhos'].str.contains(\"128 gb\", case=False), 'Modelo'   ] = '128 GB'\n",
    "#Iphone_11.loc[ Iphone_11['Aparelhos'].str.contains(\"256 gb\", case=False), 'Modelo'   ] = '256 GB'\n",
    "#Iphone_11.loc[ Iphone_11['Aparelhos'].str.contains(\"512 gb\", case=False), 'Modelo'   ] = '512 GB'"
   ]
  }
 ],
 "metadata": {
  "kernelspec": {
   "display_name": "Python 3 (ipykernel)",
   "language": "python",
   "name": "python3"
  },
  "language_info": {
   "codemirror_mode": {
    "name": "ipython",
    "version": 3
   },
   "file_extension": ".py",
   "mimetype": "text/x-python",
   "name": "python",
   "nbconvert_exporter": "python",
   "pygments_lexer": "ipython3",
   "version": "3.9.12"
  }
 },
 "nbformat": 4,
 "nbformat_minor": 5
}
